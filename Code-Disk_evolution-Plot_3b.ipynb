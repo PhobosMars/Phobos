{
 "cells": [
  {
   "cell_type": "markdown",
   "metadata": {
    "collapsed": false
   },
   "source": [
    "This code snippet imports results from the disk evolution simulations and plots the surface mass density to prodice Fig 3b in the paper. \n",
    "\n",
    "There are a few files (results from simulations from Code-Disk_evolution-Fig3b-P1.ipynb for different intial starting disk locations) that are loaded by the code. A copy of these files have been provided along with the code"
   ]
  },
  {
   "cell_type": "code",
   "execution_count": 19,
   "metadata": {
    "collapsed": false
   },
   "outputs": [
    {
     "name": "stdout",
     "output_type": "stream",
     "text": [
      "Using matplotlib backend: TkAgg\n",
      "Populating the interactive namespace from numpy and matplotlib\n"
     ]
    },
    {
     "name": "stderr",
     "output_type": "stream",
     "text": [
      "WARNING: pylab import has clobbered these variables: ['plt', 'axes']\n",
      "`%matplotlib` prevents importing * from pylab and numpy\n"
     ]
    },
    {
     "data": {
      "text/plain": [
       "(0.001, array([ 559.84]))"
      ]
     },
     "execution_count": 19,
     "metadata": {},
     "output_type": "execute_result"
    }
   ],
   "source": [
    "# Primarily plotting here ... \n",
    "\n",
    "%pylab\n",
    "import numpy as np\n",
    "import pylab as plt\n",
    "import matplotlib.gridspec as gridspec\n",
    "\n",
    "fig_width_pt = 2.*130.0  # Get this from LaTeX using \\showthe\\columnwidth\n",
    "inches_per_pt = 1.0/72.27               # Convert pt to inch\n",
    "golden_mean = (sqrt(5)-1.0)/2.0         # Aesthetic ratio\n",
    "fig_width = fig_width_pt*inches_per_pt  # width in inches\n",
    "fig_height = 1.3*fig_width*golden_mean      # height in inches\n",
    "params = {'axes.labelsize': 10,\n",
    "          'font.size': 8,\n",
    "          'font.weight': 30,\n",
    "          'legend.fontsize': 5,\n",
    "          'xtick.labelsize': 7.5,\n",
    "          'axes.linewidth': .3,\n",
    "          'ytick.labelsize': 7.5}\n",
    "pylab.rcParams.update(params)\n",
    "\n",
    "fig, axes = plt.subplots(nrows=1, ncols=1, sharex=True, sharey=True,figsize=(fig_width,fig_height),dpi=250)\n",
    "\n",
    "############################################################################\n",
    "# Load the file for the simulation and plot the maximum density as a function of time \n",
    "# Each initial location has two files each - one with very short time-steps to capture initial evolution of the disk\n",
    "# and a 2nd file with longer time-period evolution\n",
    "############################################################################\n",
    "npzfile = np.load('output_1p2_run_In.npz')  ## File for Intial ring location : 1.2 R_mars\n",
    "Time1 = npzfile['arr_0']\n",
    "density_all = npzfile['arr_1']\n",
    "max_dens = amax(density_all,0)\n",
    "\n",
    "p1, = loglog(Time1,max_dens,'k-') # in kg/m^2\n",
    "\n",
    "\n",
    "#savez('output_1p6_run',t_now[0:950]/3.154e7/1e6,dens_all_time[:,0:950],r_grid)\n",
    "npzfile = np.load('output_1p2_run.npz')\n",
    "Time1 = npzfile['arr_0']\n",
    "density_all = npzfile['arr_1']\n",
    "max_dens = amax(density_all,0)\n",
    "\n",
    "loglog(Time1,max_dens,'k-') # in kg/m^2\n",
    "\n",
    "x_min = min(Time1) + 1e-3\n",
    "x_max = max(Time1)\n",
    "\n",
    "ylabel('$\\Sigma_{r} (kg \\, m^{-2})$',fontsize=10,fontweight=\"bold\")\n",
    "xlabel('t $(Myr)$',fontsize=10,labelpad=3.5)\n",
    "\n",
    "plt.gcf().subplots_adjust(bottom=0.15)\n",
    "plt.gcf().subplots_adjust(left=.2)\n",
    "xlim([1e-3,x_max])\n",
    "\n",
    "\n",
    "############################################################################\n",
    "############################################################################\n",
    "npzfile = np.load('output_1p6_run_In.npz')      ## File for Intial ring location : 1.6 R_mars\n",
    "Time1 = npzfile['arr_0']\n",
    "density_all = npzfile['arr_1']\n",
    "max_dens = amax(density_all,0)\n",
    "\n",
    "p2, = loglog(Time1,max_dens,'r-') # in kg/m^2\n",
    "\n",
    "\n",
    "npzfile = np.load('output_1p6_run.npz')\n",
    "Time1 = npzfile['arr_0']\n",
    "density_all = npzfile['arr_1']\n",
    "max_dens = amax(density_all,0)\n",
    "\n",
    "loglog(Time1,max_dens,'r-') # in kg/m^2\n",
    "\n",
    "x_min = min(Time1)\n",
    "x_max = max(Time1)\n",
    "\n",
    "ylabel('$\\Sigma_{r} (kg \\, m^{-2})$',fontsize=10,fontweight=\"bold\")\n",
    "xlabel('t $(Myr)$',fontsize=10,labelpad=3.5)\n",
    "\n",
    "plt.gcf().subplots_adjust(bottom=0.15)\n",
    "plt.gcf().subplots_adjust(left=.2)\n",
    "xlim([1e-3,x_max])\n",
    "\n",
    "############################################################################\n",
    "############################################################################\n",
    "npzfile = np.load('output_2_run_In.npz')         ## File for Intial ring location : 2 R_mars\n",
    "Time1 = npzfile['arr_0']\n",
    "density_all = npzfile['arr_1']\n",
    "max_dens = amax(density_all,0)\n",
    "\n",
    "p3, =  loglog(Time1,max_dens,'b-') # in kg/m^2\n",
    "\n",
    "npzfile = np.load('output_2_run.npz')\n",
    "Time1 = npzfile['arr_0']\n",
    "density_all = npzfile['arr_1']\n",
    "max_dens = amax(density_all,0)\n",
    "\n",
    "loglog(Time1,max_dens,'b-') # in kg/m^2\n",
    "\n",
    "x_min = min(Time1)\n",
    "x_max = max(Time1)\n",
    "\n",
    "ylabel('$\\Sigma_{r} (kg \\, m^{-2})$',fontsize=10,fontweight=\"bold\")\n",
    "xlabel('t $(Myr)$',fontsize=10,labelpad=3.5)\n",
    "\n",
    "plt.gcf().subplots_adjust(bottom=0.15)\n",
    "plt.gcf().subplots_adjust(left=.2)\n",
    "xlim([1e-3,x_max])\n"
   ]
  },
  {
   "cell_type": "code",
   "execution_count": 20,
   "metadata": {
    "collapsed": false
   },
   "outputs": [
    {
     "data": {
      "text/plain": [
       "<matplotlib.legend.Legend at 0x7f486d096908>"
      ]
     },
     "execution_count": 20,
     "metadata": {},
     "output_type": "execute_result"
    }
   ],
   "source": [
    "### Final plotting annotations ... \n",
    "\n",
    "x_min = 1e-3\n",
    "from matplotlib.patches import Rectangle\n",
    "ax = gca()\n",
    "ax.add_patch(Rectangle((x_min,400),width=x_max,height=200,alpha=.5,facecolor='green',linewidth=.5))\n",
    "\n",
    "ax2 = gca()\n",
    "ax2.add_patch(Rectangle((x_min,1400),width=x_max,height=1200,alpha=.5,facecolor='red',linewidth=.5))\n",
    "\n",
    "ax3 = gca()\n",
    "ax3.add_patch(Rectangle((x_min,10),width=x_max,height=40,alpha=.5,facecolor='blue',linewidth=.5))\n",
    "\n",
    "annotate(\"Surface Density -  \\n Saturn's A ring\", [.05,490],\n",
    "                    xycoords='data',xytext=(-45,-25), textcoords='offset points',\n",
    "                    fontsize=7,\n",
    "                    arrowprops=dict(arrowstyle='->',fc=\"0.9\",lw=.6,shrinkA=0, shrinkB=1,\n",
    "                                        connectionstyle=\"arc3,rad=0.1\",color='k',alpha=1.))\n",
    "\n",
    "annotate(\"Surface Density - Saturn's B ring\", [1.1,2000],\n",
    "                    xycoords='data',xytext=(-35,-20), textcoords='offset points',\n",
    "                    fontsize=7,color='k',\n",
    "                    arrowprops=dict(arrowstyle='->',fc=\"0.9\",lw=.6,shrinkA=0, shrinkB=1,\n",
    "                                        connectionstyle=\"arc3,rad=0.1\",color='k',alpha=1.))\n",
    "\n",
    "ylim([20,1e4])\n",
    "\n",
    "title('Initial particle size = 1 m ',fontsize=8)\n",
    "plt.show()\n",
    "legend([p1,p2,p3],[r'$a_{disruption} \\, = 1.2 R_{Mars}$',r'$a_{disruption} \\, = 1.6 R_{Mars}$',r'$a_{disruption} \\, = 2 R_{Mars}$'],loc='best', framealpha=.5,ncol=2)\n"
   ]
  },
  {
   "cell_type": "code",
   "execution_count": 44,
   "metadata": {
    "collapsed": false
   },
   "outputs": [],
   "source": [
    "savefig(\"Fig3b_New_Version.pdf\",dpi=1200)"
   ]
  }
 ],
 "metadata": {
  "kernelspec": {
   "display_name": "Python 3",
   "language": "python",
   "name": "python3"
  },
  "language_info": {
   "codemirror_mode": {
    "name": "ipython",
    "version": 3
   },
   "file_extension": ".py",
   "mimetype": "text/x-python",
   "name": "python",
   "nbconvert_exporter": "python",
   "pygments_lexer": "ipython3",
   "version": "3.4.3"
  }
 },
 "nbformat": 4,
 "nbformat_minor": 0
}
