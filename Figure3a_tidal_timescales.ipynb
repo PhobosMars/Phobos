{
 "cells": [
  {
   "cell_type": "markdown",
   "metadata": {},
   "source": [
    "This Code calucates the tidal evolution for a spectrum of particle sizes and initial locations to produce Fig 3a in the paper. \n"
   ]
  },
  {
   "cell_type": "code",
   "execution_count": 5,
   "metadata": {
    "collapsed": false
   },
   "outputs": [
    {
     "name": "stdout",
     "output_type": "stream",
     "text": [
      "Using matplotlib backend: TkAgg\n",
      "Populating the interactive namespace from numpy and matplotlib\n"
     ]
    }
   ],
   "source": [
    "%pylab\n",
    "\n",
    "from astropy import constants\n",
    "from scipy import integrate\n",
    "\n",
    "G_val = constants.G.si.value # Gravitational Constant\n",
    "\n",
    "M_mars = 6.41693*(10**23.) # Mars mass, kg\n",
    "R_mars = 3386.*1e3         # Mars radius, m\n",
    "rho_mars = 3934            # kg/m^3\n",
    "V_phobos = 5689*1e9        # Phobos volume, +/- 60*1e9 m^3\n",
    "M_phobos = 1.065*(10**16.) # Phobos Mass, +/- .015 kg\n",
    "R_phobos = 11.1*1e3        # Phobos Radius , m\n",
    "rho_phobos = 1873.         # +/- 31 kg/m^3\n",
    "ecc_phobos =  0.01511      # initial eccentricity\n",
    "a_phobos = 9375*1e3        # Semi-major Axis, m \n",
    "w_phobos = 1./27562.       # 1/Rotation period of phobos ~ 7hr 39 mins, 1/s\n",
    "\n",
    "k2_mars = .148  # In Nimmo 2013; .148 +/- .017 ; Other Sets in Jacobsen 2014 - 0.1837 +/- .0009\n",
    "Q_mars = 88.    # In Nimmo 2013 88. +/- 16, 170+/- 20 ; Other Sets in Jacobsen 2014 - 99.57 +/- 4.9 \n",
    "\n",
    "mu_phobos_monolith = 8e4 # Dimensionless, from 8e4 - 8e6\n",
    "mu_phobos_rubble = sqrt(mu_phobos_monolith/1e-2) # Dimensionless, ~ sqrt(mu/epsilon_yield_strain); ~ from 2.85e3 - 2.85e4\n",
    "k2_phobos = 1.5/(1. + mu_phobos_rubble)\n",
    "Q_phobos = 100. # Can be between 50 - 100\n",
    "\n",
    "mu_phobos_C1 = (4.*pi/19.)*(rho_phobos**2.)*(R_phobos**2.)*G_val/k2_phobos\n",
    "const_Ecc1 = -(57./8.)*(k2_mars/Q_mars)*sqrt(G_val/M_mars)*(R_mars**5.)*M_phobos\n",
    "const_Ecc2 = -(21./2.)*(k2_phobos/Q_phobos)*sqrt(G_val*M_mars)*(R_phobos**5.)*(M_mars/M_phobos)\n",
    "\n",
    "kappa = (rho_phobos/rho_mars)*(R_phobos/R_mars)**3.\n",
    "rad_ratio = R_phobos/R_mars\n",
    "    \n",
    "mu_mars_C1 = (4.*pi/19.)*(rho_mars**2.)*(R_mars**2.)*G_val/k2_mars\n",
    "const_a1 = (8.*sqrt(3)/19.)*(pi*G_val)**1.5*(R_mars**2.)*(rho_mars**2.5)*kappa*sqrt(1.+kappa)*(R_mars**5.5)/mu_mars_C1/Q_mars\n",
    "    \n",
    "def dX_dt(t,X):\n",
    "    \"\"\" X is [a,e,w_s,E] - for moon/Phobos , E is the Energy, a is in units of R_mars \"\"\"\n",
    "    dt_e = (const_Ecc1 + const_Ecc2)*(X[1])/((X[0]*R_mars)**6.5)\n",
    "    w_t1 = + (19./22.)*(rad_ratio**2.)/(X[0]**2.)\n",
    "    w_t2 = + (380./459.)*(rad_ratio**4.)/(X[0]**4.)\n",
    "    w_t3 = + (475./584.)*(rad_ratio**6.)/(X[0]**6.)\n",
    "    w_t4 = + (133./165.)*(rad_ratio**8.)/(X[0]**8.)\n",
    "    a_t1 = + (19./22.)/(X[0]**2.)\n",
    "    a_t2 = + (380./459.)/(X[0]**4.)\n",
    "    a_t3 = + (475./584.)/(X[0]**6.)\n",
    "    a_t4 = + (133./165.)/(X[0]**8.)\n",
    "    dt_a = -1.*(const_a1/((X[0]*R_mars)**5.5))*(1. + 51.*X[1]*X[1]/4.)*(1. + a_t1 + a_t2 + a_t3 + a_t4) # Is really dt_a/R_mars\n",
    "    if (X[1] <=0.):\n",
    "        dt_e =0.\n",
    "    if (X[0] <=1.):\n",
    "        dt_a =0.\n",
    "        dt_e =0.\n",
    "        dt_w =0.\n",
    "        dt_E =0.\n",
    "    return array([dt_a,dt_e])\n",
    "\n",
    "max_t =80.*1e6*3.154e7                            # unit is per seconds\n",
    "dt = 1e4*3.154e7\n",
    "X_init = array([a_phobos/R_mars,ecc_phobos])               # initials conditions: [a,e]\n",
    "abc = integrate.ode(dX_dt).set_integrator('vode',nsteps=1e8)\n",
    "abc.set_initial_value(X_init,0.0)\n",
    "\n",
    "t_vX=[]\n",
    "a_intX=[]\n",
    "e_intX=[]\n",
    "\n",
    "a_intX.append(X_init[0])\n",
    "e_intX.append(X_init[1])\n",
    "t_vX.append(0.)\n",
    "while abc.t < max_t :\n",
    "\t#print abc.t/max_t\n",
    "\tX = abc.integrate(abc.t+dt)\n",
    "\ta_intX.append(X[0])\n",
    "\te_intX.append(X[1])\n",
    "\tt_vX.append(abc.t)\n",
    "\t#print abc.t/max_t\n",
    "    \n",
    "a_int = array(a_intX)\n",
    "e_int = array(e_intX)\n",
    "t_v = array(t_vX)\n",
    "\n",
    "r_peri =a_int*(1. - e_int) # periapse location \n",
    "r_apo = a_int*(1. + e_int) # apoapse location \n",
    "Vel_r_max = sqrt(G_val*M_mars*(2./r_apo- 1./a_int)/R_mars)# Total Velocity at the periapse for the given a, m/s\n",
    "Vel_r_min = sqrt(G_val*M_mars*(2./r_peri - 1./a_int)/R_mars)# Total Velocity at the periapse for the given a, m/s\n",
    "\n",
    "a_int_orig = a_int.copy()\n",
    "e_int_orig = e_int.copy()\n"
   ]
  },
  {
   "cell_type": "code",
   "execution_count": 2,
   "metadata": {
    "collapsed": false
   },
   "outputs": [],
   "source": []
  },
  {
   "cell_type": "code",
   "execution_count": 2,
   "metadata": {
    "collapsed": false
   },
   "outputs": [],
   "source": [
    "# Here we calculate the timescale for tidal orbital evolution for \n",
    "# a given particle size and at a given Roche (i.e initial orbital location)\n",
    "# to the top of Mars's atmosphere\n",
    "\n",
    "a_roche_list = linspace(a_int_orig[0],1.+5.*160./R_mars,25)\n",
    "# Specify orbital eccentricity of the particles to be equal to the eccentricity of Phobos at that orbital location\n",
    "e_roche_list = np.interp(a_roche_list, sort(a_int_orig), sort(e_int_orig)) \n",
    "\n",
    "mu_phobos_monolith = 8e5 # Dimensionless, from 8e4 - 8e6\n",
    "mu_phobos_rubble = sqrt(mu_phobos_monolith/1e-2) # Dimensionless, ~ sqrt(mu/epsilon_yield_strain); ~ from 2.85e3 - 2.85e4\n",
    "k2_phobos = 1.5/(1. + mu_phobos_rubble)\n",
    "Q_phobos = 100. # Can be between 50 - 100\n",
    "\n",
    "# Range of particle sizes (in m)\n",
    "size_range = array([5,15,25,50,75,100,250,350,500,600,750,1000,1500,2000,2500,3000,3500,4000,4500,5000,6000]) \n",
    "\n",
    "time_scales_a = zeros(525)\n",
    "time_scales_R = zeros(525)\n",
    "time_scales_t = zeros(525)\n",
    "time_scales_mark = zeros(525)\n",
    "time_scales_mark[502] =1\n",
    "time_scales_mark[503] =1\n",
    "time_scales_mark[513] =1\n",
    "time_scales_mark[514] =1\n",
    "time_scales_mark[514:525] =1\n",
    "\n",
    "for i in range (0,a_roche_list.shape[-1]) :\n",
    "    a_phobos = a_roche_list[i]*R_mars               # semi-major axis of the particle\n",
    "    ecc_phobos = e_roche_list[i]                    # eccentricity of the particle\n",
    "    w_phobos = sqrt(G_val*M_mars/(a_phobos)**3.)/2./pi  # spin-period of the particle\n",
    "    for k in range(0,size_range.shape[-1]):\n",
    "        R_phobos = size_range[k]                        # size of the particle , m\n",
    "        M_phobos = (4.*pi/3.)*rho_phobos*(R_phobos)**3. # Mass of the particle, same density as Phobos \n",
    "        \n",
    "        mu_phobos_C1 = (4.*pi/19.)*(rho_phobos**2.)*(R_phobos**2.)*G_val/k2_phobos\n",
    "        const_Ecc1 = -(57./8.)*(k2_mars/Q_mars)*sqrt(G_val/M_mars)*(R_mars**5.)*M_phobos\n",
    "        const_Ecc2 = -(21./2.)*(k2_phobos/Q_phobos)*sqrt(G_val*M_mars)*(R_phobos**5.)*(M_mars/M_phobos)\n",
    "        \n",
    "        kappa = (rho_phobos/rho_mars)*(R_phobos/R_mars)**3.\n",
    "        rad_ratio = R_phobos/R_mars\n",
    "        \n",
    "        mu_mars_C1 = (4.*pi/19.)*(rho_mars**2.)*(R_mars**2.)*G_val/k2_mars\n",
    "        const_a1 = (8.*sqrt(3)/19.)*(pi*G_val)**1.5*(R_mars**2.)*(rho_mars**2.5)*kappa*sqrt(1.+kappa)*(R_mars**5.5)/mu_mars_C1/Q_mars\n",
    "    \n",
    "        max_t =10e9*3.154e7                            # unit is per seconds\n",
    "        dt = 1e5*3.154e7\n",
    "        # This is just to change the total integration time for a few particle sizes\n",
    "        if (time_scales_mark[i*21+k] >0):                             \n",
    "            max_t =1e6*3.154e7                                       # unit is per seconds\n",
    "            dt = 10.*3.154e7\n",
    "        X_init = array([a_phobos/R_mars,ecc_phobos])               # initials conditions: [a,e]\n",
    "        abc = integrate.ode(dX_dt).set_integrator('vode',nsteps=1e8)\n",
    "        abc.set_initial_value(X_init,0.0)\n",
    "\n",
    "        t_vX=[]\n",
    "        a_intX=[]\n",
    "        e_intX=[]\n",
    "\n",
    "        a_intX.append(X_init[0])\n",
    "        e_intX.append(X_init[1])\n",
    "        t_vX.append(0.)\n",
    "        while abc.t < max_t :\n",
    "            #print abc.t/max_t\n",
    "            X = abc.integrate(abc.t+dt)\n",
    "            a_intX.append(X[0])\n",
    "            e_intX.append(X[1])\n",
    "            t_vX.append(abc.t)\n",
    "            #print abc.t/max_t\n",
    "    \n",
    "        a_int = array(a_intX)\n",
    "        t_v = array(t_vX)\n",
    "        time_scales_a[i*21+k] = a_phobos  # Save particle's initial location\n",
    "        time_scales_R[i*21+k] = R_phobos  # Save particle's initial size\n",
    "        time_scales_t[i*21+k] = t_v[a_int>1.+160./R_mars][-1]/1e7/1e6 # in Myr, time when particle hits Martian atmosphere\n",
    "        if (t_v[a_int>1.+160./R_mars][-1]<=0.):\n",
    "            print (t_v[a_int>1.+160./R_mars][-1],a_phobos/R_mars,R_phobos,i*21+k)"
   ]
  },
  {
   "cell_type": "code",
   "execution_count": 6,
   "metadata": {
    "collapsed": false
   },
   "outputs": [
    {
     "name": "stderr",
     "output_type": "stream",
     "text": [
      "/usr/lib/python3/dist-packages/matplotlib/__init__.py:857: UserWarning: text.fontweight is deprecated and replaced with font.weight; please use the latter.\n",
      "  warnings.warn(self.msg_depr % (key, alt_key))\n",
      "/usr/lib/python3/dist-packages/matplotlib/__init__.py:857: UserWarning: text.fontsize is deprecated and replaced with font.size; please use the latter.\n",
      "  warnings.warn(self.msg_depr % (key, alt_key))\n"
     ]
    }
   ],
   "source": [
    "# Plotting the timescales to make the contour plot (Fig 3a)\n",
    "\n",
    "import matplotlib.pyplot as plt\n",
    "import numpy as np\n",
    "from matplotlib.colors import LogNorm\n",
    "import matplotlib.gridspec as gridspec\n",
    "\n",
    "fig_width_pt = 2.*130.0  # Get this from LaTeX using \\showthe\\columnwidth\n",
    "inches_per_pt = 1.0/72.27               # Convert pt to inch\n",
    "golden_mean = (sqrt(5)-1.0)/2.0         # Aesthetic ratio\n",
    "fig_width = fig_width_pt*inches_per_pt  # width in inches\n",
    "fig_height = 1.3*fig_width*golden_mean      # height in inches\n",
    "params = {'axes.labelsize': 10,\n",
    "          'text.fontsize': 8,\n",
    "          'text.fontweight': 30,\n",
    "          'legend.fontsize': 6,\n",
    "          'xtick.labelsize': 8.,\n",
    "          'axes.linewidth': .3,\n",
    "          'ytick.labelsize': 8.}\n",
    "pylab.rcParams.update(params)\n",
    "\n",
    "fig, axes = plt.subplots(nrows=1, ncols=1, sharex=True, sharey=True,figsize=(fig_width,fig_height),dpi=250)\n",
    "gs = gridspec.GridSpec(1, 2,width_ratios=[15,1])\n",
    "\n",
    "\n",
    "# the 1st subplot\n",
    "ax1 = plt.subplot(gs[0])\n",
    "lvls = np.logspace(-3,4.1,200)\n",
    "Z1 = time_scales_t.reshape(25,21)/3.154\n",
    "CF = ax1.contourf(time_scales_R.reshape(25,21)/1000.,time_scales_a.reshape(25,21)/R_mars,Z1,\n",
    "                  norm = LogNorm(),\n",
    "                  levels = lvls,cmap='YlOrRd'\n",
    "                 )\n",
    "ax1.set_ylabel('a$_{disruption}$ / R$_{Mars}$',fontsize=10,labelpad=5)\n",
    "ax1.set_xlabel('$Particle \\, Size\\, (km)$',fontsize=10,labelpad=4)\n",
    "plt.gcf().subplots_adjust(bottom=0.15)\n",
    "plt.gcf().subplots_adjust(left=.2)\n",
    "ax1.set_xscale('log')\n",
    "\n",
    "#\n",
    "# the pseudo-colorbar\n",
    "#\n",
    "# the 2nd subplot\n",
    "ax2 = plt.subplot(gs[1])        \n",
    "CF.cmap.set_under('yellow')\n",
    "\n",
    "levls = np.linspace(.001,.01,10)\n",
    "levls = np.concatenate((levls[:-1],np.linspace(.01,.1,10)))\n",
    "levls = np.concatenate((levls[:-1],np.linspace(.1,1,10)))\n",
    "levls = np.concatenate((levls[:-1],np.linspace(1,10,10)))\n",
    "levls = np.concatenate((levls[:-1],np.linspace(10,100,10)))\n",
    "levls = np.concatenate((levls[:-1],np.linspace(100,1000,10)))\n",
    "levls = np.concatenate((levls[:-1],np.linspace(1000,10000,10)))\n",
    "\n",
    "XC = [np.zeros(len(levls)), np.ones(len(levls))]\n",
    "YC = [levls, levls]\n",
    "CM = ax2.contourf(XC,YC,YC, levels=levls, norm = LogNorm(),cmap='YlOrRd')\n",
    "\n",
    "# log y-scale\n",
    "ax2.set_yscale('log')  \n",
    "# y-labels on the right\n",
    "ax2.yaxis.tick_right()\n",
    "# no x-ticks\n",
    "ax2.set_xticks([])\n",
    "ax2.set_xlabel('$t_{impact}$ \\n $(Myr)$',fontsize=9,labelpad=2)\n",
    "#ax2.xaxis.set_label_position('top') \n",
    "CS3 = ax1.contour(time_scales_R.reshape(25,21)/1000.,time_scales_a.reshape(25,21)/R_mars,Z1,\n",
    "                  norm = LogNorm(),\n",
    "                  levels = [4.5e3,1e3,1e2,1e1,1],colors='white',linewidths=.25)\n",
    "plt.clabel(CS3, inline=1, fontsize=7,fmt='  %3.f Myr  ',inline_spacing=3)\n",
    "plt.show()"
   ]
  },
  {
   "cell_type": "code",
   "execution_count": null,
   "metadata": {
    "collapsed": false
   },
   "outputs": [],
   "source": [
    "savefig(\"Fig3a.pdf\",dpi=12900)\n",
    "\n",
    "#py.plot(arr[:,0], arr[:,1], 'o', alpha=0.1, rasterized=True)\n",
    "#py.savefig('dots.pdf', dpi=400)\n"
   ]
  },
  {
   "cell_type": "code",
   "execution_count": null,
   "metadata": {
    "collapsed": false
   },
   "outputs": [],
   "source": []
  },
  {
   "cell_type": "code",
   "execution_count": 59,
   "metadata": {
    "collapsed": false
   },
   "outputs": [],
   "source": []
  },
  {
   "cell_type": "code",
   "execution_count": 71,
   "metadata": {
    "collapsed": false
   },
   "outputs": [],
   "source": []
  },
  {
   "cell_type": "code",
   "execution_count": null,
   "metadata": {
    "collapsed": false
   },
   "outputs": [],
   "source": []
  },
  {
   "cell_type": "code",
   "execution_count": 9,
   "metadata": {
    "collapsed": false
   },
   "outputs": [],
   "source": []
  },
  {
   "cell_type": "code",
   "execution_count": 9,
   "metadata": {
    "collapsed": false
   },
   "outputs": [],
   "source": []
  },
  {
   "cell_type": "code",
   "execution_count": 65,
   "metadata": {
    "collapsed": false
   },
   "outputs": [],
   "source": []
  },
  {
   "cell_type": "code",
   "execution_count": 9,
   "metadata": {
    "collapsed": false
   },
   "outputs": [],
   "source": []
  },
  {
   "cell_type": "code",
   "execution_count": 9,
   "metadata": {
    "collapsed": false
   },
   "outputs": [],
   "source": []
  },
  {
   "cell_type": "code",
   "execution_count": null,
   "metadata": {
    "collapsed": false
   },
   "outputs": [],
   "source": []
  },
  {
   "cell_type": "code",
   "execution_count": null,
   "metadata": {
    "collapsed": false
   },
   "outputs": [],
   "source": []
  }
 ],
 "metadata": {
  "kernelspec": {
   "display_name": "Python 3",
   "language": "python",
   "name": "python3"
  },
  "language_info": {
   "codemirror_mode": {
    "name": "ipython",
    "version": 3
   },
   "file_extension": ".py",
   "mimetype": "text/x-python",
   "name": "python",
   "nbconvert_exporter": "python",
   "pygments_lexer": "ipython3",
   "version": "3.4.3"
  }
 },
 "nbformat": 4,
 "nbformat_minor": 0
}
