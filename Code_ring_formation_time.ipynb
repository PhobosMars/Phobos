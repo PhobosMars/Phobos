{
 "cells": [
  {
   "cell_type": "markdown",
   "metadata": {},
   "source": [
    "This code calculates the ring formation timescale - both in local orbital periods and hrs"
   ]
  },
  {
   "cell_type": "code",
   "execution_count": 1,
   "metadata": {
    "collapsed": false
   },
   "outputs": [
    {
     "name": "stdout",
     "output_type": "stream",
     "text": [
      "Using matplotlib backend: TkAgg\n",
      "Populating the interactive namespace from numpy and matplotlib\n"
     ]
    }
   ],
   "source": [
    "%pylab\n",
    "\n",
    "from astropy import constants\n",
    "from scipy import integrate\n",
    "\n",
    "G_val = constants.G.si.value # Gravitational Constant\n",
    "\n",
    "M_mars = 6.41693*(10**23.) # Mars mass, kg\n",
    "R_mars = 3389.5*1e3        # Mars, m\n",
    "rho_mars = 3933            # kg/m^3, Mars density\n",
    "V_phobos = 5689*1e9        # +/- 60*1e9 m^3, Phobos Volume\n",
    "M_phobos = 1.065*(10**16.) # Phobos Mass, +/- .015 kg\n",
    "R_phobos = 11.3*1e3        # Phobos Radius, m\n",
    "rho_phobos = 1860.         # Phobos density, +/- 31 kg/m^3\n",
    "ecc_phobos =  0.01511      # Current eccentricity of Phobos\n",
    "a_phobos = 9378*1e3        # Semi-major Axis of Phobos, m \n",
    "w_phobos = 1./27562.       # 1/Rotation period of phobos ~ 7hr 39 mins, 1/s\n",
    "\n",
    "k2_mars = .148            # In Nimmo 2013; .148 +/- .017 ; Other Sets in Jacobsen 2014 - 0.1837 +/- .0009\n",
    "Q_mars = 88.              # In Nimmo 2013 88. +/- 16, 170+/- 20 ; Other Sets in Jacobsen 2014 - 99.57 +/- 4.9 \n",
    "\n",
    "#mu_phobos_monolith = 8e4  # Dimensionless, from 8e4 - 8e6\n",
    "mu_phobos_rubble = sqrt(mu_phobos_monolith/1e-2) # Dimensionless, ~ sqrt(mu/epsilon_yield_strain); ~ from 2.85e3 - 2.85e4\n",
    "k2_phobos = 1.5/(1. + mu_phobos_rubble)\n",
    "Q_phobos = 100.                         # Can be between 50 - 100\n",
    "\n",
    "# Some terms for the tidal evolution equation (See text for details)\n",
    "\n",
    "mu_phobos_C1 = (4.*pi/19.)*(rho_phobos**2.)*(R_phobos**2.)*G_val/k2_phobos\n",
    "const_Ecc1 = -(57./8.)*(k2_mars/Q_mars)*sqrt(G_val/M_mars)*(R_mars**5.)*M_phobos\n",
    "const_Ecc2 = -(21./2.)*(k2_phobos/Q_phobos)*sqrt(G_val*M_mars)*(R_phobos**5.)*(M_mars/M_phobos)\n",
    "\n",
    "kappa = (rho_phobos/rho_mars)*(R_phobos/R_mars)**3.\n",
    "rad_ratio = R_phobos/R_mars\n",
    "    \n",
    "mu_mars_C1 = (4.*pi/19.)*(rho_mars**2.)*(R_mars**2.)*G_val/k2_mars\n",
    "const_a1 = (8.*sqrt(3)/19.)*(pi*G_val)**1.5*(R_mars**2.)*(rho_mars**2.5)*kappa*sqrt(1.+kappa)*(R_mars**5.5)/mu_mars_C1/Q_mars\n",
    "    \n",
    "def dX_dt(t,X):\n",
    "    \"\"\" X is [a,e] - for moon/Phobos, a is in units of R_mars \"\"\"\n",
    "    dt_e = (const_Ecc1 + const_Ecc2)*(X[1])/((X[0]*R_mars)**6.5)\n",
    "    w_t1 = + (19./22.)*(rad_ratio**2.)/(X[0]**2.)\n",
    "    w_t2 = + (380./459.)*(rad_ratio**4.)/(X[0]**4.)\n",
    "    w_t3 = + (475./584.)*(rad_ratio**6.)/(X[0]**6.)\n",
    "    w_t4 = + (133./165.)*(rad_ratio**8.)/(X[0]**8.)\n",
    "    a_t1 = + (19./22.)/(X[0]**2.)\n",
    "    a_t2 = + (380./459.)/(X[0]**4.)\n",
    "    a_t3 = + (475./584.)/(X[0]**6.)\n",
    "    a_t4 = + (133./165.)/(X[0]**8.)\n",
    "    dt_a = -1.*(const_a1/((X[0]*R_mars)**5.5))*(1. + 51.*X[1]*X[1]/4.)*(1. + a_t1 + a_t2 + a_t3 + a_t4) # Is really dt_a/R_mars\n",
    "    if (X[1] <=0.): # Prevent non-zero eccentricity\n",
    "        dt_e =0.\n",
    "    if (X[0] <=1.): # Stop evolution once we reach the top of the Martian atmosphere\n",
    "        dt_a =0.\n",
    "        dt_e =0.\n",
    "    return array([dt_a,dt_e])\n",
    "\n",
    "# Integrate the orbit \n",
    "\n",
    "max_t = 80.*1e6*3.154e7                                         # Total integration time, unit is per seconds\n",
    "dt = 1e3*3.154e7                                                # time-step   \n",
    "X_init = array([a_phobos/R_mars,ecc_phobos])                    # initials conditions: [a,e]\n",
    "abc = integrate.ode(dX_dt).set_integrator('vode',nsteps=1e8)\n",
    "abc.set_initial_value(X_init,0.0)\n",
    "\n",
    "t_vX=[]\n",
    "a_intX=[]\n",
    "e_intX=[]\n",
    "\n",
    "a_intX.append(X_init[0])\n",
    "e_intX.append(X_init[1])\n",
    "t_vX.append(0.)\n",
    "\n",
    "while abc.t < max_t :\n",
    "\t#print abc.t/max_t\n",
    "\tX = abc.integrate(abc.t+dt)\n",
    "\ta_intX.append(X[0])\n",
    "\te_intX.append(X[1])\n",
    "\tt_vX.append(abc.t)\n",
    "\t#print abc.t/max_t\n",
    "    \n",
    "a_int = array(a_intX)      # Orbital semi-major axis\n",
    "e_int = array(e_intX)      # Orbital eccentricity\n",
    "t_v = array(t_vX)          # time\n",
    "\n",
    "r_peri = a_int*(1. - e_int) # periapsis location \n",
    "r_apo  = a_int*(1. + e_int) # apoapsis location \n",
    "\n",
    "Vel_r_max = sqrt(G_val*M_mars*(2./r_apo- 1./a_int)/R_mars)# Total Velocity at the periapse for the given a, m/s\n",
    "Vel_r_min = sqrt(G_val*M_mars*(2./r_peri - 1./a_int)/R_mars)# Total Velocity at the periapse for the given a, m/s\n",
    "\n",
    "a_int_orig = a_int.copy()\n",
    "e_int_orig = e_int.copy()\n"
   ]
  },
  {
   "cell_type": "code",
   "execution_count": 2,
   "metadata": {
    "collapsed": false
   },
   "outputs": [
    {
     "name": "stderr",
     "output_type": "stream",
     "text": [
      "/usr/lib/python3/dist-packages/matplotlib/__init__.py:857: UserWarning: text.fontweight is deprecated and replaced with font.weight; please use the latter.\n",
      "  warnings.warn(self.msg_depr % (key, alt_key))\n",
      "/usr/lib/python3/dist-packages/matplotlib/__init__.py:857: UserWarning: text.fontsize is deprecated and replaced with font.size; please use the latter.\n",
      "  warnings.warn(self.msg_depr % (key, alt_key))\n"
     ]
    }
   ],
   "source": [
    "a_int = a_int_orig.copy()\n",
    "e_int = e_int_orig.copy()\n",
    "\n",
    "# Particle dynamics in the Ring \n",
    "a_initial = a_int                       # semi-major axis where the ring forms, \n",
    "e_initial = e_int\n",
    "r_initial = a_initial*(1. - e_initial)  # Location of pericenter - Assume that breakup happens at pericenter \n",
    "\n",
    "#### Assume initial width of the ring is 2*R_phobos \n",
    "# We use conservation of energy to calculate the particle's new semi-major axis \n",
    "# (See text and Veras et al. 2014 for details)\n",
    "\n",
    "# Outer edge\n",
    "r_particle = (r_initial + R_phobos/R_mars) \n",
    "const1 = (M_phobos/M_mars)*r_particle*(r_initial - 2.*a_initial) + 2.*a_initial*(r_initial - r_particle) + r_particle*r_initial\n",
    "a_particle1 = a_initial*r_initial*(r_particle)/const1 \n",
    "\n",
    "# Inner edge\n",
    "r_particle = (r_initial - R_phobos/R_mars)\n",
    "const1 = (M_phobos/M_mars)*r_particle*(r_initial - 2.*a_initial) + 2.*a_initial*(r_initial - r_particle) + r_particle*r_initial\n",
    "a_particle2 = a_initial*r_initial*(r_particle)/const1 \n",
    "\n",
    "# Calculate the time to fill the an entire orbit (t_fill) and the local orbital time at that semi-major axis (T_orbital)\n",
    "t_fill = 2.*pi/((sqrt(G_val*M_mars/a_particle2**3./R_mars**3.)) - (sqrt(G_val*M_mars/a_particle1**3./R_mars**3.))) # sec\n",
    "T_orbital = 2.*pi/(sqrt(G_val*M_mars/a_initial**3./R_mars**3.)) # sec\n",
    "\n",
    "# Plot the results\n",
    "import numpy as np\n",
    "import pylab as plt\n",
    "\n",
    "fig_width_pt = 2.*130.0  # Get this from LaTeX using \\showthe\\columnwidth\n",
    "inches_per_pt = 1.0/72.27               # Convert pt to inch\n",
    "golden_mean = (sqrt(5)-1.0)/2.0         # Aesthetic ratio\n",
    "fig_width = fig_width_pt*inches_per_pt  # width in inches\n",
    "fig_height = 1.3*fig_width*golden_mean      # height in inches\n",
    "params = {'axes.labelsize': 10,\n",
    "          'text.fontsize': 8,\n",
    "          'text.fontweight': 30,\n",
    "          'legend.fontsize': 8,\n",
    "          'xtick.labelsize': 6.5,\n",
    "          'axes.linewidth': .3,\n",
    "          'ytick.labelsize': 6.5}\n",
    "pylab.rcParams.update(params)\n",
    "#fig_size =  [fig_width,fig_height]\n",
    "import matplotlib.gridspec as gridspec\n",
    "\n",
    "fig, axes = plt.subplots(nrows=2, ncols=1, sharex=True, sharey=True,figsize=(fig_width,fig_height),dpi=250)\n",
    "gs1 = gridspec.GridSpec(2,1)\n",
    "gs1.update(hspace=0.05, wspace=0.00005) # set the spacing between axes. \n",
    "ax = plt.subplot(gs1[0])\n",
    "ax.plot(a_int[a_int>1.+160./R_mars],t_fill[a_int>1.+160./R_mars]/T_orbital[a_int>1.+160./R_mars],'k-',linewidth=1.1)\n",
    "xticklabels = ax.get_xticklabels()\n",
    "setp(xticklabels, visible=False)\n",
    "ax.set_ylabel('$t_{ring\\, formation}$\\n (Local orbital\\n  period)',fontsize=8,labelpad=3.5)\n",
    "ylim([50,150])\n",
    "\n",
    "ax = plt.subplot(gs1[1])\n",
    "ax.plot(a_int[a_int>1.+160./R_mars],t_fill[a_int>1.+160./R_mars]/3600.,'k-',linewidth=1.1)\n",
    "ax.set_xlabel('a$_{disruption}$/R$_{Mars}$',fontsize=10)\n",
    "ax.set_ylabel('$t_{ring\\, formation}$ \\n $(Hr)$',fontsize=9,labelpad=3.5,fontweight=\"bold\")\n",
    "ylim([50,1100])\n",
    "plt.gcf().subplots_adjust(bottom=0.15)\n",
    "plt.gcf().subplots_adjust(left=.25)\n"
   ]
  },
  {
   "cell_type": "code",
   "execution_count": 7,
   "metadata": {
    "collapsed": false
   },
   "outputs": [],
   "source": [
    "savefig(\"Figure_timescale_ring.pdf\",dpi=900)\n",
    "\n"
   ]
  },
  {
   "cell_type": "code",
   "execution_count": null,
   "metadata": {
    "collapsed": false
   },
   "outputs": [],
   "source": []
  },
  {
   "cell_type": "code",
   "execution_count": 39,
   "metadata": {
    "collapsed": false
   },
   "outputs": [],
   "source": []
  },
  {
   "cell_type": "code",
   "execution_count": null,
   "metadata": {
    "collapsed": false
   },
   "outputs": [],
   "source": []
  },
  {
   "cell_type": "code",
   "execution_count": 32,
   "metadata": {
    "collapsed": false
   },
   "outputs": [],
   "source": []
  },
  {
   "cell_type": "code",
   "execution_count": 4,
   "metadata": {
    "collapsed": false
   },
   "outputs": [],
   "source": []
  },
  {
   "cell_type": "code",
   "execution_count": 11,
   "metadata": {
    "collapsed": false
   },
   "outputs": [],
   "source": []
  },
  {
   "cell_type": "code",
   "execution_count": null,
   "metadata": {
    "collapsed": false
   },
   "outputs": [],
   "source": []
  },
  {
   "cell_type": "code",
   "execution_count": null,
   "metadata": {
    "collapsed": false
   },
   "outputs": [],
   "source": []
  }
 ],
 "metadata": {
  "kernelspec": {
   "display_name": "Python 3",
   "language": "python",
   "name": "python3"
  },
  "language_info": {
   "codemirror_mode": {
    "name": "ipython",
    "version": 3
   },
   "file_extension": ".py",
   "mimetype": "text/x-python",
   "name": "python",
   "nbconvert_exporter": "python",
   "pygments_lexer": "ipython3",
   "version": "3.4.3"
  }
 },
 "nbformat": 4,
 "nbformat_minor": 0
}
