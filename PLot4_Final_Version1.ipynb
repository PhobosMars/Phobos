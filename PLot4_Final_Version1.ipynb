{
 "cells": [
  {
   "cell_type": "markdown",
   "metadata": {},
   "source": [
    "This is Version 2 - In this model, the following changes have been made :\n",
    "a) Increase the order of eqn for todal evolution - to l~ 6\n",
    "b) Include the term for dw/ds explicitly instead of assuming synchronization at all times\n",
    "c) Incldue tidal dissipation in the asteroid.\n",
    "\n",
    "d) Keep track of the velocity of the object - (r,v_r,v_theta,v_total)\n"
   ]
  },
  {
   "cell_type": "code",
   "execution_count": 49,
   "metadata": {
    "collapsed": false
   },
   "outputs": [],
   "source": [
    "from astropy import constants\n",
    "from scipy import integrate\n",
    "\n",
    "G_val = constants.G.si.value\n",
    "\n",
    "Cp_rock = 1000. # J/kg/K\n",
    "\n",
    "M_mars = 6.41693*(10**23.) # Mars mass, kg\n",
    "R_mars = 3389.5*1e3 # Mars, m\n",
    "rho_mars = 3933 #kg/m^3\n",
    "V_phobos = 5689*1e9 # +/- 60*1e9 m^3\n",
    "M_phobos = 1.065*(10**16.) # Phobos, +/- .015 kg\n",
    "R_phobos = 11.3*1e3  # Phobos, m\n",
    "rho_phobos = 1860. # +/- 31 kg/m^3\n",
    "ecc_phobos =  0.01511\n",
    "a_phobos = 9378*1e3 # Semi-major Axis, m \n",
    "w_phobos = 1./27562. # 1/Rotation period of phobos ~ 7hr 39 mins, 1/s\n",
    "\n",
    "mu_phobos_monolith = 8e4 # Dimensionless, from 8e4 - 8e6\n",
    "k2_mars = .148  # In Nimmo 2013; .148 +/- .017 ; Other Sets in Jacobsen 2014 - 0.1837 +/- .0009\n",
    "Q_mars = 88.    # In Nimmo 2013 88. +/- 16, 170+/- 20 ; Other Sets in Jacobsen 2014 - 99.57 +/- 4.9 \n",
    "\n",
    "mu_phobos_rubble = sqrt(mu_phobos_monolith/1e-2) # Dimensionless, ~ sqrt(mu/epsilon_yield_strain); ~ from 2.85e3 - 2.85e4\n",
    "k2_phobos = 1.5/(1. + mu_phobos_rubble)\n",
    "Q_phobos = 100. # Can be between 50 - 100\n",
    "\n",
    "mu_phobos_C1 = (4.*pi/19.)*(rho_phobos**2.)*(R_phobos**2.)*G_val/k2_phobos\n",
    "const_Ecc1 = -(57./8.)*(k2_mars/Q_mars)*sqrt(G_val/M_mars)*(R_mars**5.)*M_phobos\n",
    "const_Ecc2 = -(21./2.)*(k2_phobos/Q_phobos)*sqrt(G_val*M_mars)*(R_phobos**5.)*(M_mars/M_phobos)\n",
    "const_E1 = (21./2.)*(k2_phobos/Q_phobos)*sqrt(G_val*M_mars)*(R_phobos**5.)*(G_val*M_mars*M_mars)\n",
    "\n",
    "kappa = (rho_phobos/rho_mars)*(R_phobos/R_mars)**3.\n",
    "rad_ratio = R_phobos/R_mars\n",
    "const_w_s1 = (8./19.)*(5./2.)*((pi*G_val*R_mars)**2.)*(rho_mars**3.)*(R_mars/R_phobos)*kappa*(R_mars**6.)/Q_phobos/mu_phobos_C1\n",
    "#const_w_s1 = 5.*pi*(k2_phobos/Q_phobos)*G_val*rho_mars*(rho_mars/rho_phobos)\n",
    "    \n",
    "mu_mars_C1 = (4.*pi/19.)*(rho_mars**2.)*(R_mars**2.)*G_val/k2_mars\n",
    "const_a1 = (8.*sqrt(3)/19.)*(pi*G_val)**1.5*(R_mars**2.)*(rho_mars**2.5)*kappa*sqrt(1.+kappa)*(R_mars**5.5)/mu_mars_C1/Q_mars\n",
    "    \n",
    "def dX_dt(t,X):\n",
    "    \"\"\" X is [a,e,w_s,E] - for moon/Phobos , E is the Energy, a is in units of R_mars \"\"\"\n",
    "    dt_e = (const_Ecc1 + const_Ecc2)*(X[1])/((X[0]*R_mars)**6.5)\n",
    "    dt_E = const_E1*(X[1]*X[1])/((X[0]*R_mars)**7.5)\n",
    "    w_t1 = + (19./22.)*(rad_ratio**2.)/(X[0]**2.)\n",
    "    w_t2 = + (380./459.)*(rad_ratio**4.)/(X[0]**4.)\n",
    "    w_t3 = + (475./584.)*(rad_ratio**6.)/(X[0]**6.)\n",
    "    w_t4 = + (133./165.)*(rad_ratio**8.)/(X[0]**8.)\n",
    "    a_t1 = + (19./22.)/(X[0]**2.)\n",
    "    a_t2 = + (380./459.)/(X[0]**4.)\n",
    "    a_t3 = + (475./584.)/(X[0]**6.)\n",
    "    a_t4 = + (133./165.)/(X[0]**8.)\n",
    "    n_val = 1e10*sqrt(G_val*M_mars/(X[0]*R_mars)**3.)/2./pi # Since 1/w_s = 2*pi/n\n",
    "    #print sign(n_val-X[2])\n",
    "    dt_w = sign(n_val-X[2])*(const_w_s1/(X[0]**6.))*(1. + w_t1 + w_t2 + w_t3 + w_t4)\n",
    "    dt_a = -1.*(const_a1/((X[0]*R_mars)**5.5))*(1. + 51.*X[1]*X[1]/4.)*(1. + a_t1 + a_t2 + a_t3 + a_t4) # Is really dt_a/R_mars\n",
    "    if (X[1] <=0.):\n",
    "        dt_e =0.\n",
    "    if (X[0] <=1.):\n",
    "        dt_a =0.\n",
    "        dt_e =0.\n",
    "        dt_w =0.\n",
    "        dt_E =0.\n",
    "    return array([dt_a,dt_e,dt_w*0.,dt_E])\n",
    "max_t =80.*1e6*3.154e7                            # unit is per seconds\n",
    "dt = 1e4*3.154e7\n",
    "X_init = array([a_phobos/R_mars,ecc_phobos,1e10*w_phobos,0.])               # initials conditions: [a,e]\n",
    "abc = integrate.ode(dX_dt).set_integrator('vode',nsteps=1e8)\n",
    "abc.set_initial_value(X_init,0.0)\n",
    "\n",
    "t_vX=[]\n",
    "a_intX=[]\n",
    "e_intX=[]\n",
    "w_s_intX=[]\n",
    "E_intX=[]\n",
    "\n",
    "a_intX.append(X_init[0])\n",
    "e_intX.append(X_init[1])\n",
    "w_s_intX.append(X_init[2])\n",
    "E_intX.append(X_init[3])\n",
    "t_vX.append(0.)\n",
    "while abc.t < max_t :\n",
    "\t#print abc.t/max_t\n",
    "\tX = abc.integrate(abc.t+dt)\n",
    "\ta_intX.append(X[0])\n",
    "\te_intX.append(X[1])\n",
    "\tw_s_intX.append(X[2])\n",
    "\tE_intX.append(X[3])\n",
    "\tt_vX.append(abc.t)\n",
    "\t#print abc.t/max_t\n",
    "    \n",
    "a_int = array(a_intX)\n",
    "e_int = array(e_intX)\n",
    "#w_s_int = array(w_s_intX)\n",
    "E_int = array(E_intX)\n",
    "t_v = array(t_vX)\n",
    "\n",
    "r_peri =a_int*(1. - e_int) # periapse location \n",
    "r_apo = a_int*(1. + e_int) # periapse location \n",
    "Vel_r_max = sqrt(G_val*M_mars*(2./r_apo- 1./a_int)/R_mars)# Total Velocity at the periapse for the given a, m/s\n",
    "Vel_r_min = sqrt(G_val*M_mars*(2./r_peri - 1./a_int)/R_mars)# Total Velocity at the periapse for the given a, m/s\n",
    "#semilogx(t_v[a_int>1.]/3.154e7/1e6,E_int[a_int>1.]/M_phobos/Cp_rock,'g-')\n",
    "#n_val = 1e5*sqrt(G_val*M_mars/a_int**3./R_mars**3.)/2./pi\n",
    "\n",
    "a_int_orig = a_int.copy()\n",
    "e_int_orig = e_int.copy()\n"
   ]
  },
  {
   "cell_type": "code",
   "execution_count": 50,
   "metadata": {
    "collapsed": false
   },
   "outputs": [
    {
     "name": "stdout",
     "output_type": "stream",
     "text": [
      "Using matplotlib backend: TkAgg\n",
      "Populating the interactive namespace from numpy and matplotlib\n"
     ]
    },
    {
     "name": "stderr",
     "output_type": "stream",
     "text": [
      "WARNING: pylab import has clobbered these variables: ['axes', 'plt']\n",
      "`%matplotlib` prevents importing * from pylab and numpy\n"
     ]
    }
   ],
   "source": [
    "% pylab"
   ]
  },
  {
   "cell_type": "code",
   "execution_count": 51,
   "metadata": {
    "collapsed": false
   },
   "outputs": [],
   "source": [
    "M_mars = 6.41693*(10**23.) # Mars mass, kg\n",
    "R_mars = 3389.5*1e3 # Mars, m\n",
    "rho_mars = 3933 #kg/m^3\n",
    "V_phobos = 5689*1e9 # +/- 60*1e9 m^3\n",
    "M_phobos = 1.065*(10**16.) # Phobos, +/- .015 kg\n",
    "R_phobos = 11.3*1e3  # Phobos, m\n",
    "rho_phobos = 1860. # +/- 31 kg/m^3\n",
    "ecc_phobos =  0.01511\n",
    "a_phobos = 9378*1e3 # Semi-major Axis, m \n",
    "w_phobos = 1./27562. # 1/Rotation period of phobos ~ 7hr 39 mins, 1/s\n",
    "\n",
    "Shape_phobos_a = 13.03*1e3 \n",
    "Shape_phobos_b = 11.40*1e3 \n",
    "Shape_phobos_c = 9.14*1e3 \n",
    "Shape_phobos_alpha = Shape_phobos_c/Shape_phobos_a\n",
    "Shape_phobos_beta = Shape_phobos_b/Shape_phobos_a\n",
    "\n",
    "Ax_phobos = Shape_phobos_alpha*Shape_phobos_beta*.880592\n",
    "Ay_phobos = Shape_phobos_alpha*Shape_phobos_beta*1.03759\n",
    "Az_phobos = Shape_phobos_alpha*Shape_phobos_beta*1.35361\n",
    "w_centr = sqrt(G_val*M_mars/(a_int*R_mars)**3.)\n",
    "\n",
    "Term1 = rho_phobos*w_centr*w_centr + (8.*pi/3.)*G_val*rho_mars*rho_phobos/(a_int)**3. -2.*pi*G_val*Ax_phobos*rho_phobos**2.\n",
    "Term2 = rho_phobos*w_centr*w_centr - (4.*pi/3.)*G_val*rho_mars*rho_phobos/(a_int)**3. -2.*pi*G_val*Ay_phobos*rho_phobos**2.\n",
    "Term3 =  - (4.*pi/3.)*G_val*rho_mars*rho_phobos/(a_int)**3. -2.*pi*G_val*Az_phobos*rho_phobos**2.\n",
    "sigma_x = Term1*Shape_phobos_a**2./5.\n",
    "sigma_y = Term2*Shape_phobos_b**2./5.\n",
    "sigma_z = Term3*Shape_phobos_c**2./5.\n"
   ]
  },
  {
   "cell_type": "code",
   "execution_count": 52,
   "metadata": {
    "collapsed": false
   },
   "outputs": [
    {
     "data": {
      "text/plain": [
       "[<matplotlib.lines.Line2D at 0x7f5e2be7dc88>]"
      ]
     },
     "execution_count": 52,
     "metadata": {},
     "output_type": "execute_result"
    }
   ],
   "source": [
    "## Hoek Model ... \n",
    "D = 1. \n",
    "mi = 5. \n",
    "GSI = 5. \n",
    "mb = mi*exp((GSI - 100.)/(28.-14.*D))\n",
    "s_hoek = exp((GSI - 100.)/(9.-3.*D))\n",
    "a_hoek = .5 + (1./6.)*(exp(-GSI/15.) - exp(-20./3.))\n",
    "Y_0 = 100*1e6 # Pascal (10-100 Mpa) # sigma_ci\n",
    "\n",
    "rhs1_H = Y_0*(-mb*(sigma_z)/Y_0 + s_hoek)**a_hoek - sigma_z\n",
    "#lhs2_H = Y_0*mb*(Term2/Y_0 + s_hoek)**a_hoek + Term2\n",
    "\n",
    "plot(a_int[a_int>1.+160./R_mars],(sigma_x[a_int>1.+160./R_mars]),'-',color='r',linewidth = .7)\n",
    "#plot(a_int[a_int>1.+160./R_mars],(sigma_x[a_int>1.+160./R_mars]),'-',color='r',linewidth = .7)\n",
    "plot(a_int[a_int>1.+160./R_mars],rhs1_H[a_int>1.+160./R_mars],'o-',color='b',linewidth = .7)\n",
    "\n"
   ]
  },
  {
   "cell_type": "code",
   "execution_count": 66,
   "metadata": {
    "collapsed": false
   },
   "outputs": [
    {
     "data": {
      "text/plain": [
       "(<function print>, 0.30443139858408536)"
      ]
     },
     "execution_count": 66,
     "metadata": {},
     "output_type": "execute_result"
    }
   ],
   "source": [
    "## Hoek Model ... \n",
    "D = 1. \n",
    "mi = 10.\n",
    "GSI = 15.\n",
    "mb = mi*exp((GSI - 100.)/(28.-14.*D))\n",
    "s_hoek = exp((GSI - 100.)/(9.-3.*D))\n",
    "a_hoek = .5 + (1./6.)*(exp(-GSI/15.) - exp(-20./3.))\n",
    "Y_0 = 1e6*25.\n",
    "\n",
    "Term_hoek = ((mb + 4.*s_hoek -a_hoek*(mb- 8.*s_hoek))*(mb/4.  +s_hoek)**(a_hoek-1.))/(2.*(a_hoek+1.)*(a_hoek+2.))\n",
    "sigma_cm = Y_0*Term_hoek\n",
    "print,sigma_cm/1e6"
   ]
  },
  {
   "cell_type": "code",
   "execution_count": 35,
   "metadata": {
    "collapsed": false
   },
   "outputs": [
    {
     "data": {
      "text/plain": [
       "0.051776695296636886"
      ]
     },
     "execution_count": 35,
     "metadata": {},
     "output_type": "execute_result"
    }
   ],
   "source": [
    "friction_ang = 45.*pi/180.\n",
    ".25e6*(1. - sin(friction_ang))/2./cos(friction_ang)/1e6"
   ]
  },
  {
   "cell_type": "code",
   "execution_count": null,
   "metadata": {
    "collapsed": false
   },
   "outputs": [],
   "source": []
  },
  {
   "cell_type": "code",
   "execution_count": null,
   "metadata": {
    "collapsed": true
   },
   "outputs": [],
   "source": []
  },
  {
   "cell_type": "code",
   "execution_count": null,
   "metadata": {
    "collapsed": true
   },
   "outputs": [],
   "source": []
  },
  {
   "cell_type": "code",
   "execution_count": 59,
   "metadata": {
    "collapsed": false
   },
   "outputs": [
    {
     "name": "stdout",
     "output_type": "stream",
     "text": [
      "14.999999999999998 0.118627811215\n",
      "29.999999999999996 0.0892962663632\n",
      "45.0 0.0641086977843\n",
      "59.99999999999999 0.041526141593\n",
      "14.999999999999998 1.08860061109\n",
      "29.999999999999996 0.819120794743\n",
      "45.0 0.587713230319\n",
      "59.99999999999999 0.380238883981\n",
      "[ 1.08860061] [ 0.04152614]\n"
     ]
    },
    {
     "name": "stderr",
     "output_type": "stream",
     "text": [
      "/usr/lib/python3/dist-packages/matplotlib/__init__.py:857: UserWarning: text.fontweight is deprecated and replaced with font.weight; please use the latter.\n",
      "  warnings.warn(self.msg_depr % (key, alt_key))\n",
      "/usr/lib/python3/dist-packages/matplotlib/__init__.py:857: UserWarning: text.fontsize is deprecated and replaced with font.size; please use the latter.\n",
      "  warnings.warn(self.msg_depr % (key, alt_key))\n"
     ]
    },
    {
     "data": {
      "text/plain": [
       "[<matplotlib.lines.Line2D at 0x7f5e2b4fd1d0>]"
      ]
     },
     "execution_count": 59,
     "metadata": {},
     "output_type": "execute_result"
    }
   ],
   "source": [
    "\n",
    "sigma_x = Term1*Shape_phobos_a**2./5.\n",
    "sigma_y = Term2*Shape_phobos_b**2./5.\n",
    "sigma_z = Term3*Shape_phobos_c**2./5.\n",
    "J2_term = sqrt((sigma_x-sigma_y)**2. + (sigma_y-sigma_z)**2. + (sigma_z-sigma_x)**2. )/sqrt(6.)\n",
    "\n",
    "r_mean_particle_size = 1e-6 # 1 micron \n",
    "Y_minimum = 1.56e-4/r_mean_particle_size # ~ 100 Pascal\n",
    "\n",
    "import numpy as np\n",
    "import pylab as plt\n",
    "\n",
    "fig_width_pt = 2.*130.0  # Get this from LaTeX using \\showthe\\columnwidth\n",
    "inches_per_pt = 1.0/72.27               # Convert pt to inch\n",
    "golden_mean = (sqrt(5)-1.0)/2.0         # Aesthetic ratio\n",
    "fig_width = fig_width_pt*inches_per_pt  # width in inches\n",
    "fig_height = 1.3*fig_width*golden_mean      # height in inches\n",
    "params = {'axes.labelsize': 10,\n",
    "          'text.fontsize': 8,\n",
    "          'text.fontweight': 30,\n",
    "          'legend.fontsize': 5,\n",
    "          'xtick.labelsize': 6.5,\n",
    "          'axes.linewidth': .3,\n",
    "          'ytick.labelsize': 6.5}\n",
    "pylab.rcParams.update(params)\n",
    "#fig_size =  [fig_width,fig_height]\n",
    "import matplotlib.gridspec as gridspec\n",
    "\n",
    "fig,axes = plt.subplots(figsize=(fig_width,fig_height),dpi=250)\n",
    "c=['r','b','k','g','c','y']\n",
    "\n",
    "friction_ang = (65.)*pi/180.\n",
    "s = 2.*sin(friction_ang)/sqrt(3.)/(3. - sin(friction_ang))\n",
    "I_term = s*(sigma_x + sigma_y + sigma_z)\n",
    "Cohesion_needed_term = J2_term + I_term\n",
    "k_term = 6.*cos(friction_ang)/sqrt(3.)/(3. - sin(friction_ang))\n",
    "term1 = Cohesion_needed_term[a_int>1.+160./R_mars]/1e6/k_term\n",
    "term1[term1 < 0] = min(term1[term1 > 0])\n",
    "axes.semilogy(a_int[a_int>1.+160./R_mars],term1,'-',color='b',linewidth = .7)\n",
    "\n",
    "friction_ang = (30.)*pi/180.\n",
    "s = 2.*sin(friction_ang)/sqrt(3.)/(3. - sin(friction_ang))\n",
    "I_term = s*(sigma_x + sigma_y + sigma_z)\n",
    "Cohesion_needed_term = J2_term + I_term\n",
    "k_term = 6.*cos(friction_ang)/sqrt(3.)/(3. - sin(friction_ang))\n",
    "\n",
    "term2 = Cohesion_needed_term[a_int>1.+160./R_mars]/1e6/k_term\n",
    "term2[term2 < 0] = min(term2[term2 > 0])\n",
    "\n",
    "x_value = a_int[a_int>1.+160./R_mars]\n",
    "axes.semilogy(a_int[a_int>1.+160./R_mars],Cohesion_needed_term[a_int>1.+160./R_mars]/1e6/k_term,'-',color='b',linewidth = .7)\n",
    "axes.fill_between(x_value,term1,term2,facecolor='blue', alpha=0.25)\n",
    "\n",
    "axes.set_xlim([1.0674454227893777,2.7667797610267])\n",
    "axes.set_ylabel('Critical Yield\\n Strength(MPa)',fontsize=10,color='blue')\n",
    "axes.set_xlabel('a/R$_{Mars}$',fontsize=10,labelpad=3.5)\n",
    "#legend([r'$\\theta_{f}=15^{\\circ}$',r'$\\theta_{f}=30^{\\circ}$',r'$\\theta_{f}=45^{\\circ}$',\n",
    "#        r'$\\theta_{f}=60^{\\circ}$'],loc='best', framealpha=.75,ncol=2)\n",
    "\n",
    "## Hoek Model ... \n",
    "D = 1. \n",
    "mi = 5. \n",
    "GSI = 5. \n",
    "mb = mi*exp((GSI - 100.)/(28.-14.*D))\n",
    "s_hoek = exp((GSI - 100.)/(9.-3.*D))\n",
    "a_hoek = .5 + (1./6.)*(exp(-GSI/15.) - exp(-20./3.))\n",
    "\n",
    "Y_strength_model = zeros([4,1])\n",
    "for i in range(0,4):\n",
    "    friction_ang = (15. + i*15.)*pi/180.\n",
    "    s = 2.*sin(friction_ang)/sqrt(3.)/(3. - sin(friction_ang))\n",
    "    I_term = s*(sigma_x + sigma_y + sigma_z)\n",
    "    Cohesion_needed_term = J2_term + I_term\n",
    "    k_term = 6.*cos(friction_ang)/sqrt(3.)/(3. - sin(friction_ang))\n",
    "    \n",
    "    # Stress models :\n",
    "    # A ) Damage fraction (Jutzi et al. 2014)\n",
    "    Y_0 = 100*1e6 # Pascal (10-100 Mpa)\n",
    "    Y_M = 3.5e9\n",
    "    #u_i = tan(friction_ang)\n",
    "    #u_d = tan(friction_ang) # or .55, .8\n",
    "    #g_phobos = G_val*(M_phobos)/R_phobos**2.\n",
    "    #Press = rho_phobos*R_phobos*g_phobos/5. \n",
    "    Term_hoek = ((mb + 4.*s_hoek -a_hoek*(mb- 8.*s_hoek))*(mb/4.  +s_hoek)**(a_hoek-1.))/(2.*(a_hoek+1.)*(a_hoek+2.))\n",
    "    Y_damaged = Y_0*Term_hoek*(1. - sin(friction_ang))/2./cos(friction_ang)\n",
    "    #Y_i = (Y_0 + u_i*Press/(1.+(u_i*Press)/(Y_M - Y_0)))\n",
    "    #semilogy(a_int[a_int>1.+160./R_mars],Cohesion_needed_term[a_int>1.+160./R_mars]*0.0 + (Y_minimum+ Y_damaged)/1e6,'-.',color=c[i],linewidth = .7)\n",
    "    #tmp1 = argmin(abs(Cohesion_needed_term[a_int>1.+160./R_mars]/1e6/k_term - Y_damaged/1e6))\n",
    "    Y_strength_model[i] = (Y_minimum+ Y_damaged)/1e6\n",
    "    print(friction_ang/(pi/180.),(Y_minimum+ Y_damaged)/1e6)\n",
    "    \n",
    "Y_strength_model_Hoek1 = Y_strength_model.copy()\n",
    "\n",
    "\n",
    "D = 1. \n",
    "mi = 15. # 20.\n",
    "GSI = 25. # 30.\n",
    "mb = mi*exp((GSI - 100.)/(28.-14.*D))\n",
    "s_hoek = exp((GSI - 100.)/(9.-3.*D))\n",
    "a_hoek = .5 + (1./6.)*(exp(-GSI/15.) - exp(-20./3.))\n",
    "Y_strength_model = zeros([4,1])\n",
    "for i in range(0,4):\n",
    "    friction_ang = (15. + i*15.)*pi/180.\n",
    "    s = 2.*sin(friction_ang)/sqrt(3.)/(3. - sin(friction_ang))\n",
    "    I_term = s*(sigma_x + sigma_y + sigma_z)\n",
    "    Cohesion_needed_term = J2_term + I_term\n",
    "    k_term = 6.*cos(friction_ang)/sqrt(3.)/(3. - sin(friction_ang))\n",
    "    \n",
    "    # Stress models :\n",
    "    # A ) Damage fraction (Jutzi et al. 2014)\n",
    "    Y_0 = 100*1e6 # Pascal (10-100 Mpa)\n",
    "    Y_M = 3.5e9\n",
    "    u_i = tan(friction_ang)\n",
    "    u_d = tan(friction_ang) # or .55, .8\n",
    "    g_phobos = G_val*(M_phobos)/R_phobos**2.\n",
    "    Press = rho_phobos*R_phobos*g_phobos/5. \n",
    "    Term_hoek = ((mb + 4.*s_hoek -a_hoek*(mb- 8.*s_hoek))*(mb/4.  +s_hoek)**(a_hoek-1.))/(2.*(a_hoek+1.)*(a_hoek+2.))\n",
    "    Y_damaged = Y_0*Term_hoek*(1. - sin(friction_ang))/2./cos(friction_ang)\n",
    "    Y_i = (Y_0 + u_i*Press/(1.+(u_i*Press)/(Y_M - Y_0)))\n",
    "    #semilogy(a_int[a_int>1.+160./R_mars],Cohesion_needed_term[a_int>1.+160./R_mars]*0.0 + (Y_minimum+ Y_damaged)/1e6,'-.',color=c[i],linewidth = .7)\n",
    "    tmp1 = argmin(abs(Cohesion_needed_term[a_int>1.+160./R_mars]/1e6/k_term - Y_damaged/1e6))\n",
    "    Y_strength_model[i] = (Y_minimum+ Y_damaged)/1e6\n",
    "    print(friction_ang/(pi/180.),(Y_minimum+ Y_damaged)/1e6)\n",
    "\n",
    "from matplotlib.patches import Ellipse, Polygon\n",
    "p2 = axes.add_patch(Polygon([[1.0674454227893777,Y_strength_model[0]],[1.0674454227893777,Y_strength_model_Hoek1[3]],\n",
    "                             [2.7667797610267,Y_strength_model_Hoek1[3]],[2.7667797610267,Y_strength_model[0]]], closed=True,\n",
    "                      fill=False, hatch='/',linewidth=.5,color='black'))\n",
    "\n",
    "print(Y_strength_model[0],Y_strength_model_Hoek1[3])\n",
    "\n",
    "\n",
    "plt.gcf().subplots_adjust(bottom=0.15)\n",
    "plt.gcf().subplots_adjust(left=.15)\n",
    "# Stress Model 2 : Holsapple 2008\n",
    "axes.semilogy(a_int[a_int>1.+160./R_mars],a_int[a_int>1.+160./R_mars]*0. + (Y_minimum)/1e6 + .025*rho_phobos**2./sqrt(R_phobos)/1e6,'--',color='k',linewidth=1.15)\n",
    "\n",
    "# Stress Model 2 : Goldriech 2009\n",
    "#mu_phobos_rubble = 2.85e3 # to - 2.85e4\n",
    "#Y_rigidity = mu_phobos_rubble*(2./19.)*g_phobos*R_phobos*rho_phobos/1e2\n",
    "#semilogy(a_int[a_int>1.+160./R_mars],Cohesion_needed_term[a_int>1.+160./R_mars]*0.0 + (Y_minimum + Y_rigidity)/1e6,'-',color='b',linewidth=1.5)\n",
    "\n",
    "# Stress Model 3 : Solid Rock\n",
    "axes.semilogy(a_int[a_int>1.+160./R_mars],Cohesion_needed_term[a_int>1.+160./R_mars]*0.0 + (Y_minimum + Y_i)/1e6,'-',color='k',linewidth=1.5)\n",
    "\n",
    "#mu_phobos_rubble = 2.85e4 # to - 2.85e4\n",
    "#Y_rigidity = mu_phobos_rubble*(2./19.)*g_phobos*R_phobos*rho_phobos/1e2\n",
    "#semilogy(a_int[a_int>1.+160./R_mars],Cohesion_needed_term[a_int>1.+160./R_mars]*0.0 + (Y_minimum + Y_rigidity)/1e6,'o',color='b')\n",
    "p1 = axes.add_patch(Polygon([[-1,.1],[-1.3,.2],[-1.1,.3],[-2,.3]], closed=True,\n",
    "                      fill=True,linewidth=.5,color='blue',alpha=.25))\n",
    "\n",
    "legend([p1],[r'$\\theta_{f}=\\,15^{\\circ} -\\, 60^{\\circ} $',],loc='best', framealpha=.75)\n",
    "\n",
    "Y_strength_model2 = zeros([4,1])\n",
    "\n",
    "for i in range(0,4):\n",
    "    friction_ang = (15. + i*15.)*pi/180.\n",
    "    s = 2.*sin(friction_ang)/sqrt(3.)/(3. - sin(friction_ang))\n",
    "    I_term = s*(sigma_x + sigma_y + sigma_z)\n",
    "    Cohesion_needed_term = J2_term + I_term\n",
    "    k_term = 6.*cos(friction_ang)/sqrt(3.)/(3. - sin(friction_ang))\n",
    "    \n",
    "    # Stress models :\n",
    "    # A ) Damage fraction (Jutzi et al. 2014)\n",
    "    Y_0 = 100*1e6 # Pascal (10-100 Mpa)\n",
    "    Y_M = 3.5e9\n",
    "    u_i = tan(friction_ang)\n",
    "    u_d = tan(friction_ang) # or .55, .8\n",
    "    g_phobos = G_val*(M_phobos)/R_phobos**2.\n",
    "    Press = rho_phobos*R_phobos*g_phobos/5. \n",
    "    Term_hoek = ((mb + 4.*s_hoek -a_hoek*(mb- 8.*s_hoek))*(mb/4.  +s_hoek)**(a_hoek-1.))/(2.*(a_hoek+1.)*(a_hoek+2.))\n",
    "    Y_damaged = Y_0*Term_hoek*(1. - sin(friction_ang))/2./cos(friction_ang)\n",
    "    Y_i = (Y_0 + u_i*Press/(1.+(u_i*Press)/(Y_M - Y_0)))\n",
    "    Y_total = (.7*Y_i) + .3*Y_damaged\n",
    "    #semilogy(a_int[a_int>1.+160./R_mars],Cohesion_needed_term[a_int>1.+160./R_mars]*0.0 + (Y_minimum+ Y_damaged)/1e6,'-.',color=c[i],linewidth = .7)\n",
    "    Y_strength_model2[i] = (Y_minimum)/1e6\n",
    "p3 = axes.add_patch(Polygon([[1.0674454227893777,Y_strength_model2[3]],[1.0674454227893777,Y_strength_model2[0]*.95],[2.7667797610267,Y_strength_model2[0]*.95],[2.7667797610267,Y_strength_model2[3]]], closed=True,\n",
    "                      fill=False, hatch='x',linewidth=.25))\n",
    "\n",
    "axes.annotate('$Y_{strength}$ - Cohesion', [1.57,Y_strength_model2[3]],\n",
    "                    xycoords='data',xytext=(75.,3), textcoords='offset points',\n",
    "                    fontsize=6,\n",
    "                    arrowprops=dict(arrowstyle='->',fc=\"0.9\",lw=.6,shrinkA=0, shrinkB=3,\n",
    "                                        connectionstyle=\"arc3,rad=0.165\",color='k',alpha=0))\n",
    "\n",
    "#annotate('a', [1.8,.011],\n",
    "#                    xycoords='data',xytext=(27.,20.), textcoords='offset points',\n",
    "#                    fontsize=6,color='white',\n",
    "#                    arrowprops=dict(arrowstyle='->',fc=\"0.9\",lw=.6,shrinkA=0, shrinkB=5,\n",
    "#                                        connectionstyle=\"arc3,rad=0.15\",color='k',alpha=1))\n",
    "\n",
    "#annotate('u', [2.16,.0048],\n",
    "#                    xycoords='data',xytext=(-10.,30.), textcoords='offset points',\n",
    "#                    fontsize=6,color='white',\n",
    "#                    arrowprops=dict(arrowstyle='->',fc=\"0.9\",lw=.6,shrinkA=0, shrinkB=5,\n",
    "#                                        connectionstyle=\"arc3,rad=0.15\",color='k',alpha=1))\n",
    "\n",
    "annotate('$Y_{strength}$ - Hoek model', [1.8,.042],\n",
    "                    xycoords='data',xytext=(15.,-10.), textcoords='offset points',\n",
    "                    fontsize=6,\n",
    "                    arrowprops=dict(arrowstyle='->',fc=\"0.9\",lw=.6,shrinkA=0, shrinkB=5,\n",
    "                                        connectionstyle=\"arc3,rad=0.15\",color='k',alpha=0))\n",
    "\n",
    "#annotate('$Y_{strength}$ - Goldreich & Sari (2009) model', [1.34,.36],\n",
    "#                    xycoords='data',xytext=(25.,5.), textcoords='offset points',\n",
    "#                    fontsize=6,\n",
    "#                    arrowprops=dict(arrowstyle='->',fc=\"0.9\",lw=.6,shrinkA=0, shrinkB=5,\n",
    "#                                        connectionstyle=\"arc3,rad=0.15\",color='k',alpha=.7))\n",
    "\n",
    "\n",
    "k_term_holsapple_model = (0.025*rho_phobos**2./sqrt(R_phobos))\n",
    "k_term_out = 6.*cos(friction_ang)/sqrt(3.)/(3. - sin(friction_ang))\n",
    "\n",
    "annotate('Minimum $Y_{strength}$ model', [1.57,k_term_holsapple_model/k_term_out/1e6],\n",
    "                    xycoords='data',xytext=(-50.,-6), textcoords='offset points',\n",
    "                    fontsize=6,\n",
    "                    arrowprops=dict(arrowstyle='->',fc=\"0.9\",lw=.6,shrinkA=0, shrinkB=1,\n",
    "                                        connectionstyle=\"arc3,rad=-0.01\",color='k',alpha=0))\n",
    "\n",
    "#legend([p1,p2,p3],[r'Critical Strength : $\\theta_{f}=\\,15^{\\circ} -\\, 60^{\\circ} $',\n",
    "#                   r'Fully damaged Model : $\\theta_{f}=\\,15^{\\circ} -\\, 60^{\\circ} $',\n",
    "#                    r'30 $\\%$ damaged Model : $\\theta_{f}=\\,15^{\\circ} -\\, 60^{\\circ} $',],loc='best', framealpha=.75)\n",
    "\n",
    "annotate('$Y_{strength}$ - No damage model', [1.57,10],\n",
    "                    xycoords='data',xytext=(-50.,3.), textcoords='offset points',\n",
    "                    fontsize=6,\n",
    "                    arrowprops=dict(arrowstyle='->',fc=\"0.9\",lw=.6,shrinkA=0, shrinkB=3,\n",
    "                                        connectionstyle=\"arc3,rad=0.165\",color='k',alpha=0))\n",
    "ylim([1e-4,100])\n",
    "\n",
    "axR = axes.twinx()\n",
    "axR.semilogy(a_int[a_int>1.+160./R_mars],term1,'-',color='b',linewidth = 0)\n",
    "#axR.yaxis.tick_right()\n",
    "#axR.yaxis.set_label_position(\"right\")\n",
    "axR.set_ylabel('Model Yield\\n Strength(MPa)',fontsize=10,color='k')\n",
    "axR.set_xlim([1.0674454227893777,2.7667797610267])\n",
    "axR.set_ylim([1e-4,100])\n",
    "#plt.gcf().subplots_adjust(left=.2)\n",
    "#plt.gcf().subplots_adjust(right=-1.5)\n",
    "\n",
    "axes.tick_params(axis='y', colors='blue')\n",
    "xlim([1.0,2.6])\n",
    "plot([1.067,1.067],[1e-4,100],'k-')"
   ]
  },
  {
   "cell_type": "code",
   "execution_count": 5,
   "metadata": {
    "collapsed": false
   },
   "outputs": [],
   "source": [
    "savefig(\"Fig2a_new2.pdf\",dpi=1200,bbox_inches='tight')\n",
    "\n",
    "#py.plot(arr[:,0], arr[:,1], 'o', alpha=0.1, rasterized=True)\n",
    "#py.savefig('dots.pdf', dpi=400)\n"
   ]
  },
  {
   "cell_type": "code",
   "execution_count": 58,
   "metadata": {
    "collapsed": false
   },
   "outputs": [
    {
     "data": {
      "text/plain": [
       "0.0010024328567438451"
      ]
     },
     "execution_count": 58,
     "metadata": {},
     "output_type": "execute_result"
    }
   ],
   "source": [
    "k_term_holsapple_model/1e6/k_term"
   ]
  },
  {
   "cell_type": "code",
   "execution_count": null,
   "metadata": {
    "collapsed": false
   },
   "outputs": [],
   "source": []
  },
  {
   "cell_type": "code",
   "execution_count": 12,
   "metadata": {
    "collapsed": false
   },
   "outputs": [],
   "source": []
  },
  {
   "cell_type": "code",
   "execution_count": 6,
   "metadata": {
    "collapsed": false
   },
   "outputs": [
    {
     "data": {
      "text/plain": [
       "<matplotlib.text.Annotation at 0x7facd91f10b8>"
      ]
     },
     "execution_count": 6,
     "metadata": {},
     "output_type": "execute_result"
    }
   ],
   "source": []
  },
  {
   "cell_type": "code",
   "execution_count": 12,
   "metadata": {
    "collapsed": false
   },
   "outputs": [],
   "source": []
  },
  {
   "cell_type": "code",
   "execution_count": null,
   "metadata": {
    "collapsed": false
   },
   "outputs": [],
   "source": []
  },
  {
   "cell_type": "code",
   "execution_count": 61,
   "metadata": {
    "collapsed": false
   },
   "outputs": [],
   "source": []
  },
  {
   "cell_type": "code",
   "execution_count": 4,
   "metadata": {
    "collapsed": false
   },
   "outputs": [],
   "source": []
  },
  {
   "cell_type": "code",
   "execution_count": 4,
   "metadata": {
    "collapsed": false
   },
   "outputs": [],
   "source": []
  },
  {
   "cell_type": "code",
   "execution_count": 4,
   "metadata": {
    "collapsed": false
   },
   "outputs": [],
   "source": []
  },
  {
   "cell_type": "code",
   "execution_count": 71,
   "metadata": {
    "collapsed": false
   },
   "outputs": [],
   "source": []
  },
  {
   "cell_type": "code",
   "execution_count": 4,
   "metadata": {
    "collapsed": false
   },
   "outputs": [],
   "source": []
  },
  {
   "cell_type": "code",
   "execution_count": null,
   "metadata": {
    "collapsed": false
   },
   "outputs": [],
   "source": []
  },
  {
   "cell_type": "code",
   "execution_count": 9,
   "metadata": {
    "collapsed": false
   },
   "outputs": [],
   "source": [
    "M_mars = 6.41693*(10**23.) # Mars mass, kg\n",
    "R_mars = 3389.5*1e3 # Mars, m\n",
    "rho_mars = 3933 #kg/m^3\n",
    "V_phobos = 5689*1e9 # +/- 60*1e9 m^3\n",
    "M_phobos = 1.065*(10**16.) # Phobos, +/- .015 kg\n",
    "R_phobos = 11.3*1e3  # Phobos, m\n",
    "rho_phobos = 1860. # +/- 31 kg/m^3\n",
    "ecc_phobos =  0.01511\n",
    "a_phobos = 9378*1e3 # Semi-major Axis, m \n",
    "w_phobos = 1./27562. # 1/Rotation period of phobos ~ 7hr 39 mins, 1/s\n",
    "\n",
    "Shape_phobos_a = 13.03*1e3 \n",
    "Shape_phobos_b = 11.40*1e3 \n",
    "Shape_phobos_c = 9.14*1e3 \n",
    "Shape_phobos_alpha = Shape_phobos_c/Shape_phobos_a\n",
    "Shape_phobos_beta = Shape_phobos_b/Shape_phobos_a\n",
    "\n",
    "Ax_phobos = Shape_phobos_alpha*Shape_phobos_beta*.880592\n",
    "Ay_phobos = Shape_phobos_alpha*Shape_phobos_beta*1.03759\n",
    "Az_phobos = Shape_phobos_alpha*Shape_phobos_beta*1.35361\n",
    "w_centr = sqrt(G_val*M_mars/(a_int*R_mars)**3.)\n",
    "\n",
    "Term1 = rho_phobos*w_centr*w_centr + (8.*pi/3.)*G_val*rho_mars*rho_phobos/(a_int)**3. -2.*pi*G_val*Ax_phobos*rho_phobos**2.\n",
    "Term2 = rho_phobos*w_centr*w_centr - (4.*pi/3.)*G_val*rho_mars*rho_phobos/(a_int)**3. -2.*pi*G_val*Ay_phobos*rho_phobos**2.\n",
    "Term3 =  - (4.*pi/3.)*G_val*rho_mars*rho_phobos/(a_int)**3. -2.*pi*G_val*Az_phobos*rho_phobos**2.\n",
    "\n",
    "sigma_x = Term1*Shape_phobos_a**2./5.\n",
    "sigma_y = Term2*Shape_phobos_b**2./5.\n",
    "sigma_z = Term3*Shape_phobos_c**2./5.\n",
    "J2_term = sqrt((sigma_x-sigma_y)**2. + (sigma_y-sigma_z)**2. + (sigma_z-sigma_x)**2. )/sqrt(6.)\n",
    "\n",
    "r_mean_particle_size = 1e-6 # 1 micron \n",
    "Y_minimum = 1.56e-4/r_mean_particle_size # ~ 100 Pascal\n",
    "\n",
    "import numpy as np\n",
    "import pylab as plt\n",
    "\n",
    "fig_width_pt = 2.*130.0  # Get this from LaTeX using \\showthe\\columnwidth\n",
    "inches_per_pt = 1.0/72.27               # Convert pt to inch\n",
    "golden_mean = (sqrt(5)-1.0)/2.0         # Aesthetic ratio\n",
    "fig_width = fig_width_pt*inches_per_pt  # width in inches\n",
    "fig_height = 1.3*fig_width*golden_mean      # height in inches\n",
    "params = {'axes.labelsize': 10,\n",
    "          'text.fontsize': 8,\n",
    "          'text.fontweight': 30,\n",
    "          'legend.fontsize': 5,\n",
    "          'xtick.labelsize': 7.5,\n",
    "          'axes.linewidth': .3,\n",
    "          'ytick.labelsize': 7.5}\n",
    "pylab.rcParams.update(params)\n",
    "#fig_size =  [fig_width,fig_height]\n",
    "import matplotlib.gridspec as gridspec\n",
    "\n",
    "fig, axes = plt.subplots(nrows=1, ncols=1, sharex=True, sharey=True,figsize=(fig_width,fig_height),dpi=250)\n",
    "clf()\n",
    "\n",
    "fric_ang_all = linspace(5,80,1000)\n",
    "all_fric_angl = zeros(1000)\n",
    "loc_fric_angl = zeros(1000)\n",
    "\n",
    "D = 1. \n",
    "mi = 5. # 20.\n",
    "GSI = 5. # 30.\n",
    "mb = mi*exp((GSI - 100.)/(28.-14.*D))\n",
    "s_hoek = exp((GSI - 100.)/(9.-3.*D))\n",
    "a_hoek = .5 + (1./6.)*(exp(-GSI/15.) - exp(-20./3.))\n",
    "\n",
    "for i in range(0,1000):\n",
    "    friction_ang = fric_ang_all[i]*pi/180.\n",
    "    s = 2.*sin(friction_ang)/sqrt(3.)/(3. - sin(friction_ang))\n",
    "    I_term = s*(sigma_x + sigma_y + sigma_z)\n",
    "    Cohesion_needed_term = J2_term + I_term\n",
    "    k_term = 6.*cos(friction_ang)/sqrt(3.)/(3. - sin(friction_ang))\n",
    "    \n",
    "    # Stress models :\n",
    "    # A ) Damage fraction (Jutzi et al. 2014)\n",
    "    Y_0 = 10*1e6 # Pascal (10-100 Mpa)\n",
    "    Y_M = 3.5e9\n",
    "    u_i = tan(friction_ang)\n",
    "    u_d = tan(friction_ang) # or .55, .8\n",
    "    g_phobos = G_val*(M_phobos)/R_phobos**2.\n",
    "    Press = rho_phobos*R_phobos*g_phobos/5. \n",
    "    Term_hoek = ((mb + 4.*s_hoek -a_hoek*(mb- 8.*s_hoek))*(mb/4.  +s_hoek)**(a_hoek-1.))/(2.*(a_hoek+1.)*(a_hoek+2.))\n",
    "    Y_damaged = Y_0*Term_hoek*(1. - sin(friction_ang))/2./cos(friction_ang)\n",
    "    Y_i = (Y_0 + u_i*Press/(1.+(u_i*Press)/(Y_M - Y_0)))\n",
    "    #semilogy(a_int[a_int>1.+160./R_mars],Cohesion_needed_term[a_int>1.+160./R_mars]*0.0 + (Y_minimum+ Y_damaged)/1e6,'-.',color=c[i],linewidth = .7)\n",
    "    tmp1 = argmin(abs(Cohesion_needed_term[a_int>1.+160./R_mars]/1e6/k_term - Y_damaged/1e6))\n",
    "    all_fric_angl[i] = friction_ang/(pi/180.)\n",
    "    loc_fric_angl[i] = a_int[tmp1]\n",
    "\n",
    "#plot(loc_fric_angl,all_fric_angl,'k-',linewidth=1.1)\n",
    "loc_fric_angl_S1  = loc_fric_angl.copy()\n",
    "all_fric_angl_S1 = all_fric_angl.copy()\n",
    "\n",
    "\n",
    "D = 1. \n",
    "mi = 15. # 20.\n",
    "GSI = 25. # 30.\n",
    "mb = mi*exp((GSI - 100.)/(28.-14.*D))\n",
    "s_hoek = exp((GSI - 100.)/(9.-3.*D))\n",
    "a_hoek = .5 + (1./6.)*(exp(-GSI/15.) - exp(-20./3.))\n",
    "\n",
    "for i in range(0,1000):\n",
    "    friction_ang = fric_ang_all[i]*pi/180.\n",
    "    s = 2.*sin(friction_ang)/sqrt(3.)/(3. - sin(friction_ang))\n",
    "    I_term = s*(sigma_x + sigma_y + sigma_z)\n",
    "    Cohesion_needed_term = J2_term + I_term\n",
    "    k_term = 6.*cos(friction_ang)/sqrt(3.)/(3. - sin(friction_ang))\n",
    "    \n",
    "    # Stress models :\n",
    "    # A ) Damage fraction (Jutzi et al. 2014)\n",
    "    Y_0 = 10*1e6 # Pascal (10-100 Mpa)\n",
    "    Y_M = 3.5e9\n",
    "    u_i = tan(friction_ang)\n",
    "    u_d = tan(friction_ang) # or .55, .8\n",
    "    g_phobos = G_val*(M_phobos)/R_phobos**2.\n",
    "    Press = rho_phobos*R_phobos*g_phobos/5. \n",
    "    Term_hoek = ((mb + 4.*s_hoek -a_hoek*(mb- 8.*s_hoek))*(mb/4.  +s_hoek)**(a_hoek-1.))/(2.*(a_hoek+1.)*(a_hoek+2.))\n",
    "    Y_damaged = Y_0*Term_hoek*(1. - sin(friction_ang))/2./cos(friction_ang)\n",
    "    Y_i = (Y_0 + u_i*Press/(1.+(u_i*Press)/(Y_M - Y_0)))\n",
    "    #semilogy(a_int[a_int>1.+160./R_mars],Cohesion_needed_term[a_int>1.+160./R_mars]*0.0 + (Y_minimum+ Y_damaged)/1e6,'-.',color=c[i],linewidth = .7)\n",
    "    tmp1 = argmin(abs(Cohesion_needed_term[a_int>1.+160./R_mars]/1e6/k_term - Y_damaged/1e6))\n",
    "    all_fric_angl[i] = friction_ang/(pi/180.)\n",
    "    loc_fric_angl[i] = a_int[tmp1]\n",
    "\n",
    "#plot(loc_fric_angl,all_fric_angl,'k-',linewidth=1.1)\n",
    "\n",
    "from scipy.interpolate import interp1d\n",
    "f2 = interp1d(all_fric_angl,loc_fric_angl)\n",
    "all_fric_angl_new = np.linspace(5., 20., 90)\n",
    "#plot(f2(all_fric_angl_new),all_fric_angl_new,'k-',linewidth=1.1)\n",
    "\n",
    "from scipy import interpolate\n",
    "tck = interpolate.splrep(all_fric_angl,loc_fric_angl, s=.05)\n",
    "all_fric_angl_new2 = np.linspace(20., 80, 90)\n",
    "ynew = interpolate.splev(all_fric_angl_new2, tck, der=0)\n",
    "#plot(ynew,all_fric_angl_new2,'k-',linewidth=1.1)\n",
    "\n",
    "\n",
    "loc_fric_angl_S2  =  hstack([f2(all_fric_angl_new),ynew])\n",
    "all_fric_angl_S2 = hstack([all_fric_angl_new,all_fric_angl_new2])\n",
    "\n",
    "f3 = interp1d(all_fric_angl_S2,loc_fric_angl_S2)\n",
    "loc_fric_angl_S3  =  f3(all_fric_angl_S1)\n",
    "\n",
    "plot(loc_fric_angl_S1, all_fric_angl_S1, loc_fric_angl_S2, all_fric_angl_S2,'k-',linewidth=1.1,color='black' )\n",
    "ax=gca()\n",
    "ax.fill_betweenx(all_fric_angl_S1, loc_fric_angl_S1, loc_fric_angl_S3, where=loc_fric_angl_S1>=loc_fric_angl_S3, hatch='/',facecolor='white',alpha=.9)\n",
    "\n",
    "\n",
    "title('Hoek Model - Disruption Location',fontsize=8)\n",
    "ylabel(r'$\\theta_{friction} \\, (deg)$',fontsize=10,labelpad=3.5)\n",
    "xlabel('a$_{disruption}$/R$_{Mars}$ ',fontsize=10)\n",
    "\n",
    "\n",
    "plt.gcf().subplots_adjust(bottom=0.15)\n",
    "plt.gcf().subplots_adjust(left=.2)\n",
    "ylim([10,80])\n",
    "xlim([1.0,2.6])\n",
    "\n",
    "from matplotlib.patches import Rectangle\n",
    "ax = gca()\n",
    "ax.add_patch(Rectangle(( 1.,25.), 1.6,20.,alpha=.7,facecolor='grey',linewidth=.5))\n",
    "plt.show()\n"
   ]
  },
  {
   "cell_type": "code",
   "execution_count": 10,
   "metadata": {
    "collapsed": false
   },
   "outputs": [
    {
     "data": {
      "text/plain": [
       "<matplotlib.text.Annotation at 0x7f4e1d7dccc0>"
      ]
     },
     "execution_count": 10,
     "metadata": {},
     "output_type": "execute_result"
    }
   ],
   "source": [
    "annotate('Likely range \\n      for'+r' $\\theta_{f}$', [2.14,36.1,],\n",
    "                    xycoords='data',xytext=(-20,27.), textcoords='offset points',\n",
    "                    fontsize=9,\n",
    "                    arrowprops=dict(arrowstyle='->',fc=\"0.9\",lw=.6,shrinkA=0, shrinkB=.6,\n",
    "                                        connectionstyle=\"arc3,rad=0.1\",color='k',alpha=1.))\n",
    "\n"
   ]
  },
  {
   "cell_type": "code",
   "execution_count": 11,
   "metadata": {
    "collapsed": false
   },
   "outputs": [],
   "source": [
    "savefig(\"Fig2b_New2_B.pdf\",dpi=900)\n",
    "\n",
    "#py.plot(arr[:,0], arr[:,1], 'o', alpha=0.1, rasterized=True)\n",
    "#py.savefig('dots.pdf', dpi=400)\n"
   ]
  },
  {
   "cell_type": "code",
   "execution_count": null,
   "metadata": {
    "collapsed": false
   },
   "outputs": [],
   "source": []
  },
  {
   "cell_type": "code",
   "execution_count": 93,
   "metadata": {
    "collapsed": false
   },
   "outputs": [],
   "source": []
  },
  {
   "cell_type": "code",
   "execution_count": null,
   "metadata": {
    "collapsed": false
   },
   "outputs": [],
   "source": []
  }
 ],
 "metadata": {
  "kernelspec": {
   "display_name": "Python 3",
   "language": "python",
   "name": "python3"
  },
  "language_info": {
   "codemirror_mode": {
    "name": "ipython",
    "version": 3
   },
   "file_extension": ".py",
   "mimetype": "text/x-python",
   "name": "python",
   "nbconvert_exporter": "python",
   "pygments_lexer": "ipython3",
   "version": "3.4.3"
  }
 },
 "nbformat": 4,
 "nbformat_minor": 0
}
