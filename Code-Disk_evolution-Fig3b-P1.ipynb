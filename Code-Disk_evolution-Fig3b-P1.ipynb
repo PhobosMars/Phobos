{
 "cells": [
  {
   "cell_type": "markdown",
   "metadata": {
    "collapsed": false
   },
   "source": [
    "This Code calcuates the viscous evolution of a circum-planetary particle disk with radially varying viscosity. The results of the code are used for the results in Fig 3b.\n",
    "\n",
    "Please note that this code was used in the paper to estimate the time-scale over which the disk spreads out to the top of the Martian atmosphere, not for any subsequent evolution. \n",
    "\n",
    "It was designed for simplicity (not speed) and there are choices related to boundary conditions at the edge of the radial grid that should be carefully thought about for other applications.\n"
   ]
  },
  {
   "cell_type": "code",
   "execution_count": 1,
   "metadata": {
    "collapsed": false
   },
   "outputs": [
    {
     "name": "stdout",
     "output_type": "stream",
     "text": [
      "Using matplotlib backend: TkAgg\n",
      "Populating the interactive namespace from numpy and matplotlib\n"
     ]
    }
   ],
   "source": [
    "# Define the variables in this section ...\n",
    "\n",
    "% pylab\n",
    "from astropy import constants\n",
    "from scipy import integrate\n",
    "\n",
    "G_val = constants.G.si.value\n",
    "\n",
    "M_mars = 6.41693*(10**23.) # Mars mass, kg\n",
    "R_mars = 3389.5*1e3    # Mars, m\n",
    "rho_mars = 3933         #kg/m^3\n",
    "V_phobos = 5689*1e9     # +/- 60*1e9 m^3\n",
    "M_phobos = 1.065*(10**16.) # Phobos, +/- .015 kg\n",
    "R_phobos = 11.3*1e3  # Phobos, m\n",
    "rho_phobos = 1860. # +/- 31 kg/m^3\n",
    "ecc_phobos =  0.01511\n",
    "a_phobos = 9378.*1e3 # Semi-major Axis, m \n",
    "w_phobos = 1./27562. # 1/Rotation period of phobos ~ 7hr 39 mins, 1/s\n"
   ]
  },
  {
   "cell_type": "code",
   "execution_count": 2,
   "metadata": {
    "collapsed": true
   },
   "outputs": [],
   "source": [
    "# base parameters of the ring - \n",
    "part_size   = 1.                      # in m, mean particle size\n",
    "a_r_initial = 1.1                     # Initial centre location of the disk (in R_Mars)\n",
    "Ring_width_int_fac  = .02*a_r_initial # initial half width = 0.02*a_r_initial (in R_Mars)\n",
    "\n",
    "num_r_points = 200                       # Number of radial grid points\n",
    "r_grid = linspace(.9,2.,num_r_points)    # grid of 'r' from .9 to 2. R_mars \n",
    "#           (this should be modified depending on the ring's initial location to allow proper evolution of the disk)\n",
    "\n",
    "inner_bndry_cond = .9                    # Inner boundary location, these are used later in the code ..\n",
    "outer_bndry_cond = 2.                    # Outer boundary location\n",
    "\n",
    "Disk_mass_frac_Phobos = 1.               # Fraction of Phobos as disk mass\n",
    "\n",
    "# Note that we define the initial density profile of the disk to be a Gaussian \n",
    "# and the total disk mass is equal to Phobos Mass (or change it using Disk_mass_frac_Phobos) "
   ]
  },
  {
   "cell_type": "code",
   "execution_count": 3,
   "metadata": {
    "collapsed": false
   },
   "outputs": [],
   "source": [
    "# Define function to calculate the viscosity of the disk at a given location (using the eqns in the paper)\n",
    "\n",
    "y_local     =  .35\n",
    "y_nonlocal  = 1.\n",
    "\n",
    "def func_visc(a_r_part,part_size,Surf_dens) :\n",
    "    sigma_part = pi*part_size**2.\n",
    "    M_part = (4.*pi/3.)*(part_size**3.)*(3000.) # mass of each particle \n",
    "    N_colmn_dens = Surf_dens/M_part\n",
    "    Opt_depth = N_colmn_dens*sigma_part                 # tau\n",
    "    \n",
    "    ## Version with values varying across the ring ....\n",
    "    n_mean = sqrt(G_val*M_mars/(a_r_part*R_mars)**3.)\n",
    "    r_hill = a_r_part*R_mars*(2.*M_part/3./M_mars)**(1./3.)\n",
    "    r_h_star = r_hill/2./part_size\n",
    "    \n",
    "    vel_disp1 = 2.*part_size*n_mean\n",
    "    vel_disp2 = sqrt(2.*G_val*M_part/part_size)\n",
    "    \n",
    "    vel_disp_final = max(vel_disp1,vel_disp2)\n",
    "    if Surf_dens < 0.001 :\n",
    "        return 0.\n",
    "    Q_value = (n_mean/G_val/3.36)*vel_disp_final/Surf_dens\n",
    "    v_trans = y_local*(vel_disp_final**2.)*Opt_depth/(1. + Opt_depth**2.)/n_mean\n",
    "    v_gravity = 0.\n",
    "    v_nonlocal = y_nonlocal*(part_size**2.)*Opt_depth*n_mean\n",
    "    v_total = v_trans + v_nonlocal + v_gravity\n",
    "    #print(Q_value)\n",
    "    if Q_value < 2. :\n",
    "        vel_disp_final = Surf_dens*3.36*G_val/n_mean\n",
    "        Q_value = 2.\n",
    "        C_wake_term = min(53.*(r_h_star**5.),30.)\n",
    "        v_trans    = .5*C_wake_term*(G_val*Surf_dens)**2./n_mean**3.\n",
    "        v_gravity  = .5*C_wake_term*(G_val*Surf_dens)**2./n_mean**3.\n",
    "        v_nonlocal = y_nonlocal*(part_size**2.)*Opt_depth*n_mean\n",
    "        v_total  = v_trans + v_nonlocal  + v_gravity \n",
    "\n",
    "    return v_total\n",
    "\n",
    "###################################################################\n",
    "################# Section on initial conditions ... \n",
    "dr_val = r_grid[1] - r_grid[0]\n",
    "\n",
    "def gaussian_func(x, mu, sig): # mu - mean, sig - sigma ... (Normalized so total Mass is 1.)\n",
    "    norm = sqrt(2.*pi)*sig\n",
    "    return exp(-(x - mu)**2./2./sig**2.)/norm\n",
    "\n",
    "def gaussian_funcD(x, mu, sig): # mu - mean, sig - sigma\n",
    "    norm = sqrt(2.*pi)*sig\n",
    "    return 2.*pi*x*exp(-(x - mu)**2./2./sig**2.)/norm # Integrand function for the total mass\n",
    "\n",
    "mass_total,err = integrate.quad(gaussian_funcD,min(r_grid),max(r_grid),args=(a_r_initial,Ring_width_int_fac),epsabs=1e-15)\n",
    "\n",
    "# Note that we have fixed the initial disk mass to be equal to Phobos Mass\n",
    "scale_fact_dens = M_phobos*Disk_mass_frac_Phobos/mass_total/R_mars/R_mars               \n",
    "\n",
    "# unit is kg/m^2, Surface mass density\n",
    "dens_init = scale_fact_dens*gaussian_func(r_grid,a_r_initial , Ring_width_int_fac) \n",
    "dens_init[dens_init < 0.001] = 0. # Set a floor for the surface mass density\n"
   ]
  },
  {
   "cell_type": "code",
   "execution_count": 4,
   "metadata": {
    "collapsed": false
   },
   "outputs": [],
   "source": [
    "# Set up functions for the viscosity calculations as well as computing the mass fluxes into and out of each bin\n",
    "from scipy import interpolate\n",
    "\n",
    "###### Functions for density evolution ...\n",
    "\n",
    "def visc_func(r_grid,part_size,dens_init,num_r_points):\n",
    "    init_viscosity = r_grid.copy()*0.0\n",
    "    for kp in range(0,num_r_points):\n",
    "        init_viscosity[kp] = func_visc(r_grid[kp],part_size,dens_init[kp])\n",
    "    return init_viscosity\n",
    "\n",
    "def compute_flux(init_viscosity,dens_init,r_grid,dr_val):\n",
    "    ## Next Step, Calculate the time evolution\n",
    "    Flux_term_integrand = init_viscosity*dens_init*sqrt(r_grid*R_mars) \n",
    "    Flux_term_grad = gradient(Flux_term_integrand,dr_val*R_mars)  \n",
    "    # Calculates - d/dr (v*sigma*sqrt(r)) - Goes left to right\n",
    "    Flux_term_total = Flux_term_grad*sqrt(r_grid*R_mars)*6.*pi\n",
    "    \n",
    "    # Note that in detail, we want a staggered grid for the fluxes into/out of the bin -\n",
    "    # So lets define a local interpolation function for flux(r)    \n",
    "    f_flux_r_term = interpolate.interp1d(r_grid, Flux_term_total,fill_value=0.,bounds_error=False) \n",
    "    # Note, be careful to use it only for something within the range of r_grid (set outside regions to be 0.)\n",
    "    # effectuvely : flux_dsigma[r_grid < inner_bndry_cond] =  0. # No flux at the bndry (atmosphere ~ 1 Mars radii, allow a few inner bins to prevent strong bndry effect on evolution)\n",
    "    # effectuvely : flux_dsigma[r_grid > outer_bndry_cond] = 0. # No flux at the bndry (set an effective outer bndry to restrict computational domain, the choice marginally affect results at best)\n",
    "    new_r_grid1 = r_grid + dr_val/2.\n",
    "    new_r_grid2 = r_grid - dr_val/2.\n",
    "    flux_dsigma = f_flux_r_term(new_r_grid1) - f_flux_r_term(new_r_grid2)\n",
    "    Bin_area_func = 2.*pi*R_mars*r_grid*dr_val*R_mars\n",
    "    return flux_dsigma/Bin_area_func\n"
   ]
  },
  {
   "cell_type": "code",
   "execution_count": 8,
   "metadata": {
    "collapsed": false
   },
   "outputs": [
    {
     "name": "stdout",
     "output_type": "stream",
     "text": [
      "Final_Time(Myr) : 3.9992\n"
     ]
    }
   ],
   "source": [
    "# Integration section of the code - Specify the time_steps to do, max time step\n",
    "\n",
    "import time\n",
    "steps_to_do = 5000              # specify the time-steps to take  \n",
    "dt_init = 8e2*3.154e7           # unit is seconds , this is the maximum value of the time-step \n",
    "\n",
    "dens_all_time = zeros([num_r_points,steps_to_do/10+1]) # variable to save the density\n",
    "t_now = zeros([steps_to_do/10+1,1])\n",
    "t_now[0] = dt_init\n",
    "\n",
    "dens_temp_var = dens_init.copy()\n",
    "t_now_temp = 0.\n",
    "dens_all_time[:,0] = dens_init.copy()\n",
    "mass_all_times = zeros([steps_to_do,1])\n",
    "t_all_times = zeros([steps_to_do,1])\n",
    "accreted_mass = zeros([steps_to_do/10+1])\n",
    "accreted_massV2 = zeros([steps_to_do/10+1])\n",
    "\n",
    "accreted_mass_tmp = 0.\n",
    "accreted_mass[0] = accreted_mass_tmp\n",
    "\n",
    "\n",
    "dt = 8e4*3.154e7           # unit is seconds, this is the time-step at t=0\n",
    "\n",
    "for i in range(0,steps_to_do-1):\n",
    "        #t1 = time.time()\n",
    "        visc_all = visc_func(r_grid,part_size,dens_temp_var,num_r_points)\n",
    "        visc_all2 = visc_all.copy()\n",
    "        visc_all2[visc_all2<=0] = 1e-8 \n",
    "        max_dt_allowed = min(((dr_val*R_mars)**2.)/visc_all2)/dt\n",
    "        dt = min(.5*max_dt_allowed*dt,dt_init)  # A simple viscous evolution estimate to regulate the time-steps\n",
    "        # Note that dt can adaptively change during the simulation ...\n",
    "        \n",
    "        flux_term_r = compute_flux(visc_all,dens_temp_var,r_grid,dr_val)\n",
    "        dens_temp_var += flux_term_r*dt\n",
    "        mass_all_times[i] = sum(dens_temp_var*2.*pi*dr_val*R_mars*r_grid*R_mars)\n",
    "        accreted_mass_tmp += sum(dens_temp_var[r_grid<=inner_bndry_cond]*2.*pi*dr_val*R_mars*r_grid[r_grid<=inner_bndry_cond]*R_mars)\n",
    "        \n",
    "        dens_temp_var[r_grid<=inner_bndry_cond] = 0.\n",
    "        t_now_temp +=dt\n",
    "        t_all_times[i] = t_now_temp \n",
    "        if (steps_to_do%10.) == 0. :  # Save the density grid every 10 time-steps\n",
    "            dens_all_time[:,i/10+1] = dens_temp_var\n",
    "            accreted_mass[i/10+1] = accreted_mass_tmp\n",
    "            t_now[i/10+1] = t_now_temp  # in Seconds \n",
    "        \n",
    "        \n",
    "print(\"Final_Time(Myr) :\",(t_now_temp/3.154e7/1e6))\n",
    "\n",
    "# Save the density grid for subsequent plotting (See Code-Disk_evolution-Plot_3b.ipynb)\n",
    "savez('output_1p1_run',t_now/3.154e7/1e6,dens_all_time,r_grid) \n",
    "\n",
    "\n"
   ]
  },
  {
   "cell_type": "markdown",
   "metadata": {
    "collapsed": false
   },
   "source": [
    "Please again note that users should carefully go through the code and boundary condition choices before using it for any applications. "
   ]
  },
  {
   "cell_type": "code",
   "execution_count": null,
   "metadata": {
    "collapsed": true
   },
   "outputs": [],
   "source": []
  }
 ],
 "metadata": {
  "kernelspec": {
   "display_name": "Python 3",
   "language": "python",
   "name": "python3"
  },
  "language_info": {
   "codemirror_mode": {
    "name": "ipython",
    "version": 3
   },
   "file_extension": ".py",
   "mimetype": "text/x-python",
   "name": "python",
   "nbconvert_exporter": "python",
   "pygments_lexer": "ipython3",
   "version": "3.4.3"
  }
 },
 "nbformat": 4,
 "nbformat_minor": 0
}
