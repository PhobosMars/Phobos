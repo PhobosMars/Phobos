{
 "cells": [
  {
   "cell_type": "code",
   "execution_count": 2,
   "metadata": {
    "collapsed": false
   },
   "outputs": [
    {
     "name": "stdout",
     "output_type": "stream",
     "text": [
      "Using matplotlib backend: TkAgg\n",
      "Populating the interactive namespace from numpy and matplotlib\n"
     ]
    }
   ],
   "source": [
    "% pylab\n",
    "from astropy import constants\n",
    "from scipy import integrate\n",
    "\n",
    "G_val = constants.G.si.value\n",
    "\n",
    "Cp_rock = 1000. # J/kg/K\n",
    "M_mars = 6.41693*(10**23.) # Mars mass, kg\n",
    "R_mars = 3389.5*1e3 # Mars, m\n",
    "rho_mars = 3933 #kg/m^3\n",
    "V_phobos = 5689*1e9 # +/- 60*1e9 m^3\n",
    "M_phobos = 1.065*(10**16.) # Phobos, +/- .015 kg\n",
    "R_phobos = 11.3*1e3  # Phobos, m\n",
    "rho_phobos = 1860. # +/- 31 kg/m^3\n",
    "ecc_phobos =  0.01511\n",
    "a_phobos = 9378.*1e3 # Semi-major Axis, m \n",
    "w_phobos = 1./27562. # 1/Rotation period of phobos ~ 7hr 39 mins, 1/s\n"
   ]
  },
  {
   "cell_type": "code",
   "execution_count": 29,
   "metadata": {
    "collapsed": false
   },
   "outputs": [],
   "source": [
    "part_size = 1. # in m\n",
    "y_local =  .35\n",
    "y_nonlocal = 1.\n",
    "a_r_initial = 1.6 # Initial centre location of the disk\n",
    "Ring_width_int_fac  = .02*a_r_initial # initial half width = 0.02*a_r_initial (in R_Mars)\n",
    "\n",
    "\n",
    "def func_visc(a_r_part,part_size,Surf_dens) :\n",
    "    sigma_part = pi*part_size**2.\n",
    "    M_part = (4.*pi/3.)*(part_size**3.)*(3000.) # mass of each particle \n",
    "    N_colmn_dens = Surf_dens/M_part\n",
    "    Opt_depth = N_colmn_dens*sigma_part                 # tau\n",
    "    \n",
    "    ## Version with values across the ring ....\n",
    "    n_mean = sqrt(G_val*M_mars/(a_r_part*R_mars)**3.)\n",
    "    r_hill = a_r_part*R_mars*(2.*M_part/3./M_mars)**(1./3.)\n",
    "    r_h_star = r_hill/2./part_size\n",
    "    \n",
    "    vel_disp1 = 2.*part_size*n_mean\n",
    "    vel_disp2 = sqrt(2.*G_val*M_part/part_size)\n",
    "    \n",
    "    vel_disp_final = max(vel_disp1,vel_disp2)\n",
    "    if Surf_dens < 0.001 :\n",
    "        return 0.\n",
    "    Q_value = (n_mean/G_val/3.36)*vel_disp_final/Surf_dens\n",
    "    v_trans = y_local*(vel_disp_final**2.)*Opt_depth/(1. + Opt_depth**2.)/n_mean\n",
    "    v_gravity = 0.\n",
    "    v_nonlocal = y_nonlocal*(part_size**2.)*Opt_depth*n_mean\n",
    "    v_total = v_trans + v_nonlocal + v_gravity\n",
    "    #print(Q_value)\n",
    "    if Q_value < 2. :\n",
    "        vel_disp_final = Surf_dens*3.36*G_val/n_mean\n",
    "        Q_value = 2.\n",
    "        C_wake_term = min(53.*(r_h_star**5.),30.)\n",
    "        v_trans    = .5*C_wake_term*(G_val*Surf_dens)**2./n_mean**3.\n",
    "        v_gravity  = .5*C_wake_term*(G_val*Surf_dens)**2./n_mean**3.\n",
    "        v_nonlocal = y_nonlocal*(part_size**2.)*Opt_depth*n_mean\n",
    "        v_total  = v_trans + v_nonlocal  + v_gravity \n",
    "\n",
    "    return v_total\n",
    "\n",
    "# Density evolution Equation ... - Init Setup\n",
    "num_r_points = 400\n",
    "r_grid = linspace(.9,3.5,num_r_points) # grid of r from .9 to 3. R_mars\n",
    "dr_val = r_grid[1] - r_grid[0]\n",
    "\n",
    "################# Section on initial conditions ... \n",
    "def gaussian_funcD(x, mu, sig): # mu - mean, sig - sigma\n",
    "    norm = sqrt(2.*pi)*sig\n",
    "    return 2.*pi*x*R_mars*exp(-(x - mu)**2./2./sig**2.)/norm # Integrand function for the total mass (x - r)\n",
    "\n",
    "mass_total,err = integrate.quad(gaussian_funcD,min(r_grid),max(r_grid),args=(a_r_initial,Ring_width_int_fac),epsabs=1e-15)\n",
    "scale_fact_dens = M_phobos/mass_total/R_mars  # Fix initial disk mass = Phobos Mass\n",
    "\n",
    "def gaussian_func(x, mu, sig): # mu - mean, sig - sigma ... (Normalized so total Mass is )\n",
    "    norm = sqrt(2.*pi)*sig\n",
    "    return exp(-(x - mu)**2./2./sig**2.)/norm\n",
    "\n",
    "dens_init = scale_fact_dens*gaussian_func(r_grid,a_r_initial , Ring_width_int_fac) # unit is kg/m^3\n",
    "dens_init[dens_init < 0.001] = 0.\n",
    "####################################################################\n",
    "\n",
    "mars_atm_top_bin = argmin(abs(r_grid - (1.+ 2.*160*1e3/R_mars) ))\n",
    "mars_atm_top_binB = argmin(abs(r_grid - (1.+30*1e3/R_mars) ))\n",
    "tmp1_val = gaussian_func(r_grid[mars_atm_top_binB:mars_atm_top_bin-1],r_grid[mars_atm_top_binB],(-r_grid[mars_atm_top_binB] + r_grid[mars_atm_top_bin])/7.)\n",
    "top_atm_visc = .1*tmp1_val/max(tmp1_val)\n",
    "\n",
    "tmp2_val = gaussian_func(r_grid[0:mars_atm_top_binB],r_grid[mars_atm_top_binB],(r_grid[mars_atm_top_binB] - r_grid[1])/3.)\n",
    "top_atm_visc2 = .1*tmp2_val/max(tmp2_val)*0.0 + .1\n",
    "#r_grid[mars_atm_top_binB:mars_atm_top_bin-1],top_atm_visc2\n",
    "#top_atm_visc"
   ]
  },
  {
   "cell_type": "code",
   "execution_count": 30,
   "metadata": {
    "collapsed": false
   },
   "outputs": [],
   "source": [
    "from scipy import interpolate\n",
    "def visc_func(r_grid,part_size,dens_init,num_r_points):\n",
    "    init_viscosity = r_grid.copy()*0.0\n",
    "    for kp in range(0,num_r_points):\n",
    "        init_viscosity[kp] = func_visc(r_grid[kp],part_size,dens_init[kp])\n",
    "    #print(init_viscosity[mars_atm_top_bin-1:mars_atm_top_bin+5])\n",
    "    init_viscosity[mars_atm_top_binB:mars_atm_top_bin-1] = init_viscosity[mars_atm_top_binB:mars_atm_top_bin-1] + top_atm_visc \n",
    "    ### Note that this is to a viscosity boundary \n",
    "    init_viscosity[0:mars_atm_top_binB] = top_atm_visc2     #init_viscosity[mars_atm_top_binB+1]+top_atm_visc2 \n",
    "    return init_viscosity\n",
    "\n",
    "def compute_flux(init_viscosity,dens_init,r_grid,dr_val):\n",
    "    ## Next Step, Calculate the evolution ... \n",
    "    Flux_term_integrand = init_viscosity*dens_init*sqrt(r_grid*R_mars) \n",
    "    Flux_term_grad = gradient(Flux_term_integrand,dr_val*R_mars)  \n",
    "    # Calculates - d/dr (v*sigma*sqrt(r)) - Goes left to right\n",
    "    Flux_term_total = Flux_term_grad*sqrt(r_grid*R_mars)*6.*pi\n",
    "    \n",
    "    # Note that in detail, we want a staggered grid for the fluxes into/out of the bin -\n",
    "    # So lets define a local interpolation function for flux(r)\n",
    "    \n",
    "    f_flux_r_term = interpolate.interp1d(r_grid, Flux_term_total,fill_value=0.,bounds_error=False) \n",
    "    new_r_grid1 = r_grid + dr_val/2.\n",
    "    new_r_grid2 = r_grid - dr_val/2.\n",
    "    #print(new_r_grid1,f_flux_r_term)\n",
    "    flux_dsigma = f_flux_r_term(new_r_grid1) - f_flux_r_term(new_r_grid2)\n",
    "    # Note, be careful to use it only for something outside the range of r_grid (set that to be 0.)\n",
    "    Bin_area_func = 2.*pi*R_mars*r_grid*dr_val*R_mars\n",
    "    flux_dsigma[r_grid <.95] =  0. # No flux at the bndry condition ... \n",
    "    flux_dsigma[r_grid > 1.95] = 0. # No flux at the bndry condition ... \n",
    "    return flux_dsigma/Bin_area_func"
   ]
  },
  {
   "cell_type": "code",
   "execution_count": 24,
   "metadata": {
    "collapsed": false
   },
   "outputs": [
    {
     "name": "stdout",
     "output_type": "stream",
     "text": [
      "Final_Time(Myr) : 0.445192923381\n"
     ]
    }
   ],
   "source": [
    "import time\n",
    "steps_to_do = 800000\n",
    "dt_init = 8e4*3.154e7       # unit is per seconds\n",
    "#max_t = 80.*1e6*3.154e7                            # unit is per seconds\n",
    "\n",
    "dens_all_time = zeros([num_r_points,steps_to_do/10+1])\n",
    "t_now = zeros([steps_to_do,1])\n",
    "dt = 8e4*3.154e7\n",
    "\n",
    "dens_temp_var = dens_init.copy()\n",
    "t_now_temp = 0.\n",
    "dens_all_time[:,0] = dens_init.copy()\n",
    "mass_all_times = zeros([steps_to_do,1])\n",
    "t_all_times = zeros([steps_to_do,1])\n",
    "\n",
    "for i in range(0,steps_to_do-1):\n",
    "        #t1 = time.time()\n",
    "        visc_all = visc_func(r_grid,part_size,dens_temp_var,num_r_points)\n",
    "        visc_all2 = visc_all.copy()\n",
    "        visc_all2[visc_all2<=0] = 1e-8 \n",
    "        max_dt_allowed = min(((dr_val*R_mars)**2.)/visc_all2)/dt\n",
    "        dt = min(.5*max_dt_allowed*dt,dt_init)\n",
    "        flux_term_r = compute_flux(visc_all,dens_temp_var,r_grid,dr_val)\n",
    "        dens_temp_var += flux_term_r*dt\n",
    "        mass_all_times[i] = sum(dens_temp_var*2.*pi*dr_val*R_mars*r_grid*R_mars)\n",
    "        #dens_temp_var[r_grid<1.] = 0.\n",
    "        t_now_temp +=dt\n",
    "        t_all_times[i] = t_now_temp \n",
    "        if (steps_to_do%10.) == 0. :\n",
    "            dens_all_time[:,i/10+1] = dens_temp_var\n",
    "            t_now[i/10+1] = t_now_temp # in Seconds \n",
    "        \n",
    "        \n",
    "        \n",
    "print(\"Final_Time(Myr) :\",(t_now_temp/3.154e7/1e6))\n",
    "#savez('output_1p6_run',t_now[0:950]/3.154e7/1e6,dens_all_time[:,0:950],r_grid)\n",
    "#npzfile = np.load('output_1p6_run.npz')"
   ]
  },
  {
   "cell_type": "code",
   "execution_count": 28,
   "metadata": {
    "collapsed": false
   },
   "outputs": [],
   "source": [
    "figure(3)\n",
    "clf()\n",
    "for k in range(15,160): #int(steps_to_do/100+1)):\n",
    "    plot(r_grid,dens_all_time[:,k*500])\n",
    "\n",
    "#plot(r_grid,50. + r_grid*0.0,'k--')\n",
    "#t_now[1000]/3.154e7/1e6"
   ]
  },
  {
   "cell_type": "code",
   "execution_count": 7,
   "metadata": {
    "collapsed": false
   },
   "outputs": [],
   "source": [
    "figure(3)\n",
    "clf()\n",
    "plot(t_all_times/3.154e7/1e6,mass_all_times/M_phobos,'ko')\n",
    "grid('on')"
   ]
  },
  {
   "cell_type": "code",
   "execution_count": 8,
   "metadata": {
    "collapsed": false
   },
   "outputs": [],
   "source": [
    "npzfile = np.load('output_1p6_run.npz')\n",
    "dens_all_time = npzfile['arr_1']"
   ]
  },
  {
   "cell_type": "code",
   "execution_count": 37,
   "metadata": {
    "collapsed": false
   },
   "outputs": [],
   "source": []
  },
  {
   "cell_type": "code",
   "execution_count": 39,
   "metadata": {
    "collapsed": false
   },
   "outputs": [],
   "source": []
  },
  {
   "cell_type": "code",
   "execution_count": 23,
   "metadata": {
    "collapsed": false
   },
   "outputs": [
    {
     "data": {
      "text/plain": [
       "['arr_0', 'arr_1', 'arr_2']"
      ]
     },
     "execution_count": 23,
     "metadata": {},
     "output_type": "execute_result"
    }
   ],
   "source": [
    "npzfile.files"
   ]
  },
  {
   "cell_type": "code",
   "execution_count": null,
   "metadata": {
    "collapsed": true
   },
   "outputs": [],
   "source": []
  },
  {
   "cell_type": "code",
   "execution_count": 60,
   "metadata": {
    "collapsed": false
   },
   "outputs": [
    {
     "data": {
      "text/plain": [
       "22.827387514297524"
      ]
     },
     "execution_count": 60,
     "metadata": {},
     "output_type": "execute_result"
    }
   ],
   "source": [
    "min((dr_val*R_mars)**2./visc_all)/dt"
   ]
  },
  {
   "cell_type": "code",
   "execution_count": 22,
   "metadata": {
    "collapsed": false
   },
   "outputs": [
    {
     "data": {
      "text/plain": [
       "(200, 20001)"
      ]
     },
     "execution_count": 22,
     "metadata": {},
     "output_type": "execute_result"
    }
   ],
   "source": [
    "shape(dens_all_time)"
   ]
  },
  {
   "cell_type": "code",
   "execution_count": null,
   "metadata": {
    "collapsed": true
   },
   "outputs": [],
   "source": []
  },
  {
   "cell_type": "code",
   "execution_count": null,
   "metadata": {
    "collapsed": false
   },
   "outputs": [],
   "source": []
  },
  {
   "cell_type": "code",
   "execution_count": null,
   "metadata": {
    "collapsed": false
   },
   "outputs": [],
   "source": []
  },
  {
   "cell_type": "code",
   "execution_count": null,
   "metadata": {
    "collapsed": false
   },
   "outputs": [],
   "source": []
  },
  {
   "cell_type": "code",
   "execution_count": 38,
   "metadata": {
    "collapsed": false
   },
   "outputs": [],
   "source": []
  },
  {
   "cell_type": "code",
   "execution_count": null,
   "metadata": {
    "collapsed": true
   },
   "outputs": [],
   "source": []
  },
  {
   "cell_type": "code",
   "execution_count": null,
   "metadata": {
    "collapsed": true
   },
   "outputs": [],
   "source": [
    "## Viscosity  atmosphere - Mars\n",
    "h = linspace(10,160e3,1000)\n",
    "rho_atmp = 1.76e-2*exp(-h/11./1e3)\n",
    "mu = (4.6e-6 + (1.5e-5 - 4.6e-6)*h/160e3)/rho_atmp\n",
    "\n",
    "semilogy(h,mu)"
   ]
  }
 ],
 "metadata": {
  "kernelspec": {
   "display_name": "Python 3",
   "language": "python",
   "name": "python3"
  },
  "language_info": {
   "codemirror_mode": {
    "name": "ipython",
    "version": 3
   },
   "file_extension": ".py",
   "mimetype": "text/x-python",
   "name": "python",
   "nbconvert_exporter": "python",
   "pygments_lexer": "ipython3",
   "version": "3.4.3"
  }
 },
 "nbformat": 4,
 "nbformat_minor": 0
}
