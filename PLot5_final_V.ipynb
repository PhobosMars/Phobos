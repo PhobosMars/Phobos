{
 "metadata": {
  "name": "",
  "signature": "sha256:1b7be43f0f87279d745ab240298df2a82632c7f36db7e2f0c17db834e43bc8a1"
 },
 "nbformat": 3,
 "nbformat_minor": 0,
 "worksheets": [
  {
   "cells": [
    {
     "cell_type": "code",
     "collapsed": false,
     "input": [
      "# PR Drag timescale ...\n",
      "from astropy import constants\n",
      "from scipy import integrate\n",
      "\n",
      "G_val = constants.G.si.value\n",
      "\n",
      "Cp_rock = 1000. # J/kg/K\n",
      "\n",
      "M_mars = 6.41693*(10**23.) # Mars mass, kg\n",
      "R_mars = 3389.5*1e3 # Mars, m\n",
      "rho_mars = 3933 #kg/m^3\n",
      "V_phobos = 5689*1e9 # +/- 60*1e9 m^3\n",
      "M_phobos = 1.065*(10**16.) # Phobos, +/- .015 kg\n",
      "R_phobos = 11.3*1e3  # Phobos, m\n",
      "rho_phobos = 1860. # +/- 31 kg/m^3\n",
      "ecc_phobos =  0.01511\n",
      "a_phobos = 9378*1e3 # Semi-major Axis, m \n",
      "w_phobos = 1./27562. # 1/Rotation period of phobos ~ 7hr 39 mins, 1/s\n",
      "\n",
      "mu_phobos_monolith = 8e4 # Dimensionless, from 8e4 - 8e6\n",
      "k2_mars = .148  # In Nimmo 2013; .148 +/- .017 ; Other Sets in Jacobsen 2014 - 0.1837 +/- .0009\n",
      "Q_mars = 88.    # In Nimmo 2013 88. +/- 16, 170+/- 20 ; Other Sets in Jacobsen 2014 - 99.57 +/- 4.9 \n",
      "\n",
      "mu_phobos_rubble = sqrt(mu_phobos_monolith/1e-2) # Dimensionless, ~ sqrt(mu/epsilon_yield_strain); ~ from 2.85e3 - 2.85e4\n",
      "k2_phobos = 1.5/(1. + mu_phobos_rubble)\n",
      "Q_phobos = 100. # Can be between 50 - 100\n",
      "\n"
     ],
     "language": "python",
     "metadata": {},
     "outputs": [],
     "prompt_number": 1
    },
    {
     "cell_type": "code",
     "collapsed": false,
     "input": [
      "# PR drag ddecay of particle orbits \n",
      "size_range = logspace(-6,log10(R_phobos),1000)\n",
      "T1=(3.*constants.L_sun.si.value/4./pi/(constants.au.si.value*1.523679)**2.)\n",
      "T2=.5*(5.+1.)\n",
      "t_pr_drag = 8.*3000.*size_range*constants.c.si.value**2./T1/T2\n",
      "\n",
      "\n",
      "import numpy as np\n",
      "import pylab as plt\n",
      "\n",
      "plt.rc('font', family='serif')\n",
      "plt.rc('font', weight='book')\n",
      "\n",
      "fig_width_pt = 2.*130.0  # Get this from LaTeX using \\showthe\\columnwidth\n",
      "inches_per_pt = 1.0/72.27               # Convert pt to inch\n",
      "golden_mean = (sqrt(5)-1.0)/2.0         # Aesthetic ratio\n",
      "fig_width = fig_width_pt*inches_per_pt  # width in inches\n",
      "fig_height = 1.3*fig_width*golden_mean      # height in inches\n",
      "params = {'axes.labelsize': 10,\n",
      "          'text.fontsize': 8,\n",
      "          'text.fontweight': 30,\n",
      "          'legend.fontsize': 8,\n",
      "          'xtick.labelsize': 6.5,\n",
      "          'axes.linewidth': .3,\n",
      "          'ytick.labelsize': 6.5}\n",
      "pylab.rcParams.update(params)\n",
      "#fig_size =  [fig_width,fig_height]\n",
      "fig, axes = plt.subplots(nrows=1, ncols=1, sharex=True, sharey=True,figsize=(fig_width,fig_height),dpi=250)\n",
      "\n",
      "loglog(size_range,t_pr_drag/1e7/1e6/3.154,'k-')\n",
      "xlabel('$Particle\\, Size \\,(m)$',fontsize=10,fontweight=\"bold\")\n",
      "ylabel('$t_{decay}\\, (Myr) \\, - PR \\, drag$',fontsize=10,labelpad=3.5,fontweight=\"bold\")\n",
      "\n",
      "ylim([0,1e4])\n",
      "plt.gcf().subplots_adjust(bottom=0.15)\n",
      "plt.gcf().subplots_adjust(left=.2)\n",
      "\n",
      "\n",
      "# optically thin ring\n",
      "ar_ring = pi*((R_mars*1.7+5.*R_phobos)**2. - (R_mars*1.7-5.*R_phobos)**2.)\n",
      "sigma_dens =  M_phobos/ar_ring # gm/cm^2 -> 1e-3/1e-4 kg/m^2 (final units kg/m^2)\n",
      "\n",
      "t_pr_drag2 = 3.*sigma_dens*pi*sqrt(2.)*(constants.c.si.value**2.)/T1/T2\n",
      "#loglog(size_range,t_pr_drag*0.0 + t_pr_drag2/1e7/1e6/3.154,'b--')\n",
      "\n",
      "#legend(['Optically Thin Disk','Optically Thick Disk'],loc='best', framealpha=.75,ncol=2,fontsize=8)\n",
      "savefig(\"Plot5_FinalV1.pdf\",dpi=900)\n"
     ],
     "language": "python",
     "metadata": {},
     "outputs": [],
     "prompt_number": 28
    },
    {
     "cell_type": "code",
     "collapsed": false,
     "input": [
      "t_pr_drag2/1e7/1e6/3.154"
     ],
     "language": "python",
     "metadata": {},
     "outputs": [
      {
       "metadata": {},
       "output_type": "pyout",
       "prompt_number": 21,
       "text": [
        "20732.952426306179"
       ]
      }
     ],
     "prompt_number": 21
    },
    {
     "cell_type": "code",
     "collapsed": false,
     "input": [],
     "language": "python",
     "metadata": {},
     "outputs": [],
     "prompt_number": 18
    }
   ],
   "metadata": {}
  }
 ]
}